{
 "cells": [
  {
   "cell_type": "markdown",
   "metadata": {},
   "source": [
    "# **CA4. Multiprocessing**\n",
    "**Sansores Cruz Angel David\\\n",
    "Data Engineering\\\n",
    "Universidad Politécnica de Yucatán\\\n",
    "Ucú, Yucatán, México\\\n",
    "2109139@upy.edu.mx** \n",
    "\n",
    "# Part 3. Dictionaries and Sets"
   ]
  },
  {
   "cell_type": "markdown",
   "metadata": {},
   "source": [
    "\n",
    "12. Use the marco geoestadístico 2010\n",
    "(https://www.inegi.org.mx/app/biblioteca/ficha.html?upc=889463807469) and\n",
    "2020 (https://www.inegi.org.mx/app/biblioteca/ficha.html?upc=702825292812) to\n",
    "obtain the “Áreas Geoestadísticas Básicas” (AGEBs) from Mérida, Yucatán. AGEBs\n",
    "evolve on time. Use sets to find:\\\n",
    "a. AGEBs which remains from 2010 on 2020.\\\n",
    "b. New AGEBs on 2020.\\\n",
    "c. AGEBs that disappear from 2010 to 2020.\\\n",
    "Make a map with the following visualization to observe all three cases."
   ]
  },
  {
   "cell_type": "code",
   "execution_count": null,
   "metadata": {},
   "outputs": [],
   "source": []
  }
 ],
 "metadata": {
  "language_info": {
   "name": "python"
  }
 },
 "nbformat": 4,
 "nbformat_minor": 2
}
