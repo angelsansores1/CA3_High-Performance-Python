{
 "cells": [
  {
   "cell_type": "markdown",
   "metadata": {},
   "source": [
    "# **CA4. Multiprocessing**\n",
    "**Sansores Cruz Angel David\\\n",
    "Data Engineering\\\n",
    "Universidad Politécnica de Yucatán\\\n",
    "Ucú, Yucatán, México\\\n",
    "2109139@upy.edu.mx** \n",
    "\n",
    "# Part 4. Matrix and Vector Computations"
   ]
  },
  {
   "cell_type": "markdown",
   "metadata": {},
   "source": [
    "13. Read about Broadcasting with Arrays on the chapter Computation on Arrays:\\\n",
    "Broadcasting from Python Data Science Handbook (J. VandePlas, 2016):\\\n",
    "**Link:** https://jakevdp.github.io/PythonDataScienceHandbook/02.05-computationon-arrays-broadcasting.html."
   ]
  },
  {
   "cell_type": "code",
   "execution_count": null,
   "metadata": {},
   "outputs": [],
   "source": []
  },
  {
   "cell_type": "markdown",
   "metadata": {},
   "source": [
    "14. Read Rewriting the particle simulator in Numpy on Chapter 2: Fast Array Operations\n",
    "with Numpy and Pandas (pp. 68) from the book G. Lenaro (2017). Python high\n",
    "Performance. Second Edition. UK: Packt Publishing Ltd. Implement the\n",
    "improvements on the particle simulator using NumPy. Show that both\n",
    "implementations scale linearly with particle size, but the runtime in the pure Python\n",
    "version grows much faster than the NumPy version. "
   ]
  },
  {
   "cell_type": "code",
   "execution_count": null,
   "metadata": {},
   "outputs": [],
   "source": []
  },
  {
   "cell_type": "markdown",
   "metadata": {},
   "source": [
    "15. Explain how to optain the optimal performance with numexpr. Read the section\n",
    "Reaching optimal performance with numexpr, pp. 72 from the previous reference.\n",
    "Implement it and measure the execution time."
   ]
  },
  {
   "cell_type": "code",
   "execution_count": null,
   "metadata": {},
   "outputs": [],
   "source": []
  }
 ],
 "metadata": {
  "language_info": {
   "name": "python"
  }
 },
 "nbformat": 4,
 "nbformat_minor": 2
}
