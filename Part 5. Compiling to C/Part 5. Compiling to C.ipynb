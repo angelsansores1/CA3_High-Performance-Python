{
 "cells": [
  {
   "cell_type": "markdown",
   "metadata": {},
   "source": [
    "# **CA4. Multiprocessing**\n",
    "**Sansores Cruz Angel David\\\n",
    "Data Engineering\\\n",
    "Universidad Politécnica de Yucatán\\\n",
    "Ucú, Yucatán, México\\\n",
    "2109139@upy.edu.mx** \n",
    "\n",
    "# Part 5. Compiling to C"
   ]
  },
  {
   "cell_type": "markdown",
   "metadata": {},
   "source": [
    "16. Read about the Conway’s Game of Life. Implement all solutions provided on the\n",
    "Cython Material (slides) to obtain the update of the lattice:\\\n",
    "a. Python\\\n",
    "b. Cython 1\\\n",
    "c. Cython 2\\\n",
    "d. Cython 3\\\n",
    "e. Cython 4\\\n",
    "Explain the improvement on each solution. Reproduce the chart on pp. 33 with the runtime for each solution."
   ]
  }
 ],
 "metadata": {
  "language_info": {
   "name": "python"
  }
 },
 "nbformat": 4,
 "nbformat_minor": 2
}
