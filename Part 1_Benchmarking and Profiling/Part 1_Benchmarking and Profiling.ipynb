{
  "cells": [
    {
      "cell_type": "markdown",
      "metadata": {
        "id": "xRNjXZ0Z7uCT"
      },
      "source": [
        "# **CA4. Multiprocessing**\n",
        "**Sansores Cruz Angel David\\\n",
        "Data Engineering\\\n",
        "Universidad Politécnica de Yucatán\\\n",
        "Ucú, Yucatán, México\\\n",
        "2109139@upy.edu.mx** \\\n",
        "\n",
        "# Part 1. Benchmarking and Profiling\n",
        "\n",
        "**The Julia set is an interesting CPU-bound problem for us to begin with. It is a fractal sequence that generates a complex output image, named after Gaston Julia.**\n",
        "\n",
        "1. Read the sections “Introducing the Julia Set” and “Calculating the Full Julia Set” on Chapter 2. Profiling to Find Bottlenecks from the book: **M. Gorelick & I. Ozsvald(2020). High Performance Python. Practical Performant Programming for Humans. Second Edition. United States of America: O’Reilly Media, Inc.** Implement the chapter functions (Example 2-1, 2-2, 2-3 and 2-4) on Python in order to calculate the Julia Set. Make the representation for the false gray and pure gray scale."
      ]
    },
    {
      "cell_type": "code",
      "execution_count": 4,
      "metadata": {
        "id": "5gm2p4kno0k5"
      },
      "outputs": [],
      "source": [
        "import time"
      ]
    },
    {
      "cell_type": "code",
      "execution_count": 5,
      "metadata": {
        "id": "dP4K0cPY70zY"
      },
      "outputs": [],
      "source": [
        "#Example 2-1. Defining global constants for the coordinate space\n",
        "\"\"\"Julia set generator without optional PIL-based image drawing\"\"\"\n",
        "# area of complex space to investigate\n",
        "x1, x2, y1, y2 = -1.8, 1.8, -1.8, 1.8\n",
        "c_real, c_imag = -0.62772, -.42193"
      ]
    },
    {
      "cell_type": "code",
      "execution_count": 6,
      "metadata": {
        "id": "TVWxtyPWwn-J"
      },
      "outputs": [],
      "source": [
        "# Example 2-2. stablishing the coordinate lists as inputs to our calculation function\n",
        "def calc_pure_python(desired_width, max_iterations):\n",
        "  \"\"\"Create a list of complex coordinates (zs) and complex parameters (cs),\n",
        " build Julia set\"\"\"\n",
        "  x_step = (x2 - x1) / desired_width\n",
        "  y_step = (y1 - y2) / desired_width\n",
        "  x = []\n",
        "  y = []\n",
        "  ycoord = y2\n",
        "  while ycoord > y1:\n",
        "    y.append(ycoord)\n",
        "    ycoord += y_step\n",
        "  xcoord = x1\n",
        "  while xcoord < x2:\n",
        "    x.append(xcoord)\n",
        "    xcoord += x_step\n",
        "# build a list of coordinates and the initial condition for each cell.\n",
        "# Note that our initial condition is a constant and could easily be removed,\n",
        "# we use it to simulate a real-world scenario with several inputs to our\n",
        "# function\n",
        "  zs = []\n",
        "  cs = []\n",
        "  for ycoord in y:\n",
        "    for xcoord in x:\n",
        "      zs.append(complex(xcoord, ycoord))\n",
        "      cs.append(complex(c_real, c_imag))\n",
        "  print(\"Length of x:\", len(x))\n",
        "  print(\"Total elements:\", len(zs))\n",
        "  start_time = time.time()\n",
        "  output = calculate_z_serial_purepython(max_iterations, zs, cs)\n",
        "  end_time = time.time()\n",
        "  secs = end_time - start_time\n",
        "  print(calculate_z_serial_purepython.__name__ + \" took\", secs, \"seconds\")\n",
        "# This sum is expected for a 1000^2 grid with 300 iterations\n",
        "# It ensures that our code evolves exactly as we'd intended\n",
        "  assert sum(output) == 33219980"
      ]
    },
    {
      "cell_type": "code",
      "execution_count": 7,
      "metadata": {
        "id": "_xGXWpq5v6jt"
      },
      "outputs": [],
      "source": [
        "#Example 2-3. Our CPU-bound calculation function\n",
        "def calculate_z_serial_purepython(maxiter, zs, cs):\n",
        "  \"\"\"Calculate output list using Julia update rule\"\"\"\n",
        "  output = [0] * len(zs)\n",
        "  for i in range(len(zs)):\n",
        "    n = 0\n",
        "    z = zs[i]\n",
        "    c = cs[i]\n",
        "    while abs(z) < 2 and n < maxiter:\n",
        "      z = z * z + c\n",
        "      n += 1\n",
        "    output[i] = n\n",
        "  return output"
      ]
    },
    {
      "cell_type": "markdown",
      "metadata": {
        "id": "UHlFuSfb7aEv"
      },
      "source": [
        "**Once we run the next code, we see some output about the complexity of the problem:**\\\n",
        "**running the above produces:**\\\n",
        "Length of x: 1000\\\n",
        "Total elements: 1000000\\\n",
        "calculate_z_serial_purepython took 8.087012767791748 seconds"
      ]
    },
    {
      "cell_type": "code",
      "execution_count": 8,
      "metadata": {
        "colab": {
          "base_uri": "https://localhost:8080/"
        },
        "id": "G_YonmJiwt1Z",
        "outputId": "9b641e90-ba07-4ac0-af0e-0d9d562f260f"
      },
      "outputs": [
        {
          "name": "stdout",
          "output_type": "stream",
          "text": [
            "Length of x: 1000\n",
            "Total elements: 1000000\n",
            "calculate_z_serial_purepython took 5.4955644607543945 seconds\n"
          ]
        }
      ],
      "source": [
        "if __name__ == \"__main__\":\n",
        "# Calculate the Julia set using a pure Python solution with\n",
        "# reasonable defaults for a laptop\n",
        "  calc_pure_python(desired_width=1000, max_iterations=300)\n"
      ]
    },
    {
      "cell_type": "markdown",
      "metadata": {
        "id": "_gMc_PFR-PWi"
      },
      "source": [
        "# Representation for **False Gray** and **Pure Grayscale**"
      ]
    },
    {
      "cell_type": "code",
      "execution_count": 9,
      "metadata": {},
      "outputs": [
        {
          "name": "stdout",
          "output_type": "stream",
          "text": [
            "Requirement already satisfied: Pillow in c:\\users\\angel\\appdata\\local\\packages\\pythonsoftwarefoundation.python.3.10_qbz5n2kfra8p0\\localcache\\local-packages\\python310\\site-packages (9.2.0)\n",
            "Note: you may need to restart the kernel to use updated packages.\n"
          ]
        },
        {
          "name": "stderr",
          "output_type": "stream",
          "text": [
            "\n",
            "[notice] A new release of pip is available: 23.3.2 -> 24.0\n",
            "[notice] To update, run: C:\\Users\\angel\\AppData\\Local\\Microsoft\\WindowsApps\\PythonSoftwareFoundation.Python.3.10_qbz5n2kfra8p0\\python.exe -m pip install --upgrade pip\n"
          ]
        }
      ],
      "source": [
        "%pip install Pillow\n",
        "from PIL import Image\n",
        "import numpy as np\n",
        "import array\n"
      ]
    },
    {
      "cell_type": "code",
      "execution_count": null,
      "metadata": {
        "id": "uaulCTCK-_bp"
      },
      "outputs": [],
      "source": []
    },
    {
      "cell_type": "code",
      "execution_count": null,
      "metadata": {},
      "outputs": [],
      "source": []
    },
    {
      "cell_type": "markdown",
      "metadata": {
        "id": "mo8gvEeXf6dr"
      },
      "source": [
        "2. Define a new function, timefn, which takes a function as an argument: the inner function, measure_time, takes *args (a variable number of positional arguments) and **kwargs (a variable number of key/value arguments) and passes them through to fn for execution. Decorate calculate_z_serial_purepython with @timefn to profile it. Implement Example 2-5 and adapt your current source code."
      ]
    },
    {
      "cell_type": "code",
      "execution_count": 10,
      "metadata": {
        "id": "ZoXU3tu8gC7P"
      },
      "outputs": [],
      "source": [
        "# Example 2-5. Defining a decorator to automate timing measurements\n",
        "from functools import wraps\n",
        "\n",
        "def timefn(fn):\n",
        "    @wraps(fn)\n",
        "    def measure_time(*args, **kwargs):\n",
        "        t1 = time.time()\n",
        "        result = fn(*args, **kwargs)\n",
        "        t2 = time.time()\n",
        "        print(f\"@timefn: {fn.__name__} took {t2 - t1} seconds\")\n",
        "        return result\n",
        "    return measure_time"
      ]
    },
    {
      "cell_type": "code",
      "execution_count": 11,
      "metadata": {
        "id": "YNTKM73IUlwJ"
      },
      "outputs": [],
      "source": [
        "@timefn\n",
        "def calculate_z_serial_purepython(maxiter, zs, cs):\n",
        "    '''Calculate output list using Julia update rule'''\n",
        "    output = [0] * len(zs)\n",
        "    for i in range(len(zs)):\n",
        "        n = 0\n",
        "        z = zs[i]\n",
        "        c = cs[i]\n",
        "        while abs(z) < 2 and n < maxiter:\n",
        "            z = z * z + c\n",
        "            n += 1\n",
        "        output[i] = n\n",
        "    return output"
      ]
    },
    {
      "cell_type": "code",
      "execution_count": 12,
      "metadata": {
        "colab": {
          "base_uri": "https://localhost:8080/"
        },
        "id": "oqZnxdzGVQ-X",
        "outputId": "7953c7f5-f8e1-4069-88a9-f7390d31bb6b"
      },
      "outputs": [
        {
          "name": "stdout",
          "output_type": "stream",
          "text": [
            "Length of x: 1000\n",
            "Total elements: 1000000\n",
            "@timefn: calculate_z_serial_purepython took 6.549245357513428 seconds\n",
            "calculate_z_serial_purepython took 6.549245357513428 seconds\n"
          ]
        }
      ],
      "source": [
        "if __name__ == \"__main__\":\n",
        "    calc_pure_python(desired_width=1000, max_iterations=300)"
      ]
    },
    {
      "cell_type": "markdown",
      "metadata": {
        "id": "ZBr_QrFogNNH"
      },
      "source": [
        "3. Use the timeit modeule to get a coarse measurement of the execution speed of the CPU-bound function. Runs 10 loops with 5 repetitions. Show how to do the\n",
        "measurement on the command line and on a Jupyter Notebook."
      ]
    },
    {
      "cell_type": "code",
      "execution_count": 13,
      "metadata": {
        "colab": {
          "base_uri": "https://localhost:8080/",
          "height": 331
        },
        "id": "Ap7Cp68RgSHV",
        "outputId": "31a32308-6ff2-48fc-8291-03b3cecda46b"
      },
      "outputs": [
        {
          "name": "stdout",
          "output_type": "stream",
          "text": [
            "Length of x: 1000\n",
            "Total elements: 1000000\n",
            "@timefn: calculate_z_serial_purepython took 6.025115489959717 seconds\n",
            "calculate_z_serial_purepython took 6.025115489959717 seconds\n",
            "Length of x: 1000\n",
            "Total elements: 1000000\n",
            "@timefn: calculate_z_serial_purepython took 8.883240461349487 seconds\n",
            "calculate_z_serial_purepython took 8.883240461349487 seconds\n",
            "Length of x: 1000\n",
            "Total elements: 1000000\n",
            "@timefn: calculate_z_serial_purepython took 8.317840337753296 seconds\n",
            "calculate_z_serial_purepython took 8.317840337753296 seconds\n",
            "Length of x: 1000\n",
            "Total elements: 1000000\n",
            "@timefn: calculate_z_serial_purepython took 8.40365743637085 seconds\n",
            "calculate_z_serial_purepython took 8.40365743637085 seconds\n",
            "Length of x: 1000\n",
            "Total elements: 1000000\n",
            "@timefn: calculate_z_serial_purepython took 8.699599027633667 seconds\n",
            "calculate_z_serial_purepython took 8.699599027633667 seconds\n",
            "Length of x: 1000\n",
            "Total elements: 1000000\n",
            "@timefn: calculate_z_serial_purepython took 8.682618379592896 seconds\n",
            "calculate_z_serial_purepython took 8.682618379592896 seconds\n",
            "Length of x: 1000\n",
            "Total elements: 1000000\n",
            "@timefn: calculate_z_serial_purepython took 6.894085645675659 seconds\n",
            "calculate_z_serial_purepython took 6.894085645675659 seconds\n",
            "Length of x: 1000\n",
            "Total elements: 1000000\n",
            "@timefn: calculate_z_serial_purepython took 7.060568332672119 seconds\n",
            "calculate_z_serial_purepython took 7.060568332672119 seconds\n",
            "Length of x: 1000\n",
            "Total elements: 1000000\n",
            "@timefn: calculate_z_serial_purepython took 7.168308973312378 seconds\n",
            "calculate_z_serial_purepython took 7.168308973312378 seconds\n",
            "Length of x: 1000\n",
            "Total elements: 1000000\n",
            "@timefn: calculate_z_serial_purepython took 6.196107387542725 seconds\n",
            "calculate_z_serial_purepython took 6.196107387542725 seconds\n",
            "Length of x: 1000\n",
            "Total elements: 1000000\n",
            "@timefn: calculate_z_serial_purepython took 5.980450630187988 seconds\n",
            "calculate_z_serial_purepython took 5.980450630187988 seconds\n",
            "Length of x: 1000\n",
            "Total elements: 1000000\n",
            "@timefn: calculate_z_serial_purepython took 5.965019702911377 seconds\n",
            "calculate_z_serial_purepython took 5.965019702911377 seconds\n",
            "Length of x: 1000\n",
            "Total elements: 1000000\n",
            "@timefn: calculate_z_serial_purepython took 6.42629861831665 seconds\n",
            "calculate_z_serial_purepython took 6.42629861831665 seconds\n",
            "Length of x: 1000\n",
            "Total elements: 1000000\n",
            "@timefn: calculate_z_serial_purepython took 6.2213828563690186 seconds\n",
            "calculate_z_serial_purepython took 6.2213828563690186 seconds\n",
            "Length of x: 1000\n",
            "Total elements: 1000000\n",
            "@timefn: calculate_z_serial_purepython took 6.543634653091431 seconds\n",
            "calculate_z_serial_purepython took 6.543634653091431 seconds\n",
            "Length of x: 1000\n",
            "Total elements: 1000000\n",
            "@timefn: calculate_z_serial_purepython took 5.953532934188843 seconds\n",
            "calculate_z_serial_purepython took 5.954544544219971 seconds\n",
            "Length of x: 1000\n",
            "Total elements: 1000000\n",
            "@timefn: calculate_z_serial_purepython took 6.422368049621582 seconds\n",
            "calculate_z_serial_purepython took 6.422368049621582 seconds\n",
            "Length of x: 1000\n",
            "Total elements: 1000000\n",
            "@timefn: calculate_z_serial_purepython took 8.099873781204224 seconds\n",
            "calculate_z_serial_purepython took 8.099873781204224 seconds\n",
            "Length of x: 1000\n",
            "Total elements: 1000000\n",
            "@timefn: calculate_z_serial_purepython took 8.665106773376465 seconds\n",
            "calculate_z_serial_purepython took 8.665106773376465 seconds\n",
            "Length of x: 1000\n",
            "Total elements: 1000000\n",
            "@timefn: calculate_z_serial_purepython took 8.58479905128479 seconds\n",
            "calculate_z_serial_purepython took 8.58479905128479 seconds\n",
            "Length of x: 1000\n",
            "Total elements: 1000000\n",
            "@timefn: calculate_z_serial_purepython took 6.543149709701538 seconds\n",
            "calculate_z_serial_purepython took 6.543149709701538 seconds\n",
            "Length of x: 1000\n",
            "Total elements: 1000000\n",
            "@timefn: calculate_z_serial_purepython took 6.389103412628174 seconds\n",
            "calculate_z_serial_purepython took 6.389103412628174 seconds\n",
            "Length of x: 1000\n",
            "Total elements: 1000000\n",
            "@timefn: calculate_z_serial_purepython took 9.70078730583191 seconds\n",
            "calculate_z_serial_purepython took 9.70078730583191 seconds\n",
            "Length of x: 1000\n",
            "Total elements: 1000000\n",
            "@timefn: calculate_z_serial_purepython took 8.619746208190918 seconds\n",
            "calculate_z_serial_purepython took 8.619746208190918 seconds\n",
            "Length of x: 1000\n",
            "Total elements: 1000000\n",
            "@timefn: calculate_z_serial_purepython took 8.323615312576294 seconds\n",
            "calculate_z_serial_purepython took 8.323615312576294 seconds\n",
            "Length of x: 1000\n",
            "Total elements: 1000000\n",
            "@timefn: calculate_z_serial_purepython took 8.25138235092163 seconds\n",
            "calculate_z_serial_purepython took 8.25138235092163 seconds\n",
            "Length of x: 1000\n",
            "Total elements: 1000000\n",
            "@timefn: calculate_z_serial_purepython took 8.482298851013184 seconds\n",
            "calculate_z_serial_purepython took 8.482298851013184 seconds\n",
            "Length of x: 1000\n",
            "Total elements: 1000000\n",
            "@timefn: calculate_z_serial_purepython took 8.235551595687866 seconds\n",
            "calculate_z_serial_purepython took 8.235551595687866 seconds\n",
            "Length of x: 1000\n",
            "Total elements: 1000000\n",
            "@timefn: calculate_z_serial_purepython took 8.183776617050171 seconds\n",
            "calculate_z_serial_purepython took 8.183776617050171 seconds\n",
            "Length of x: 1000\n",
            "Total elements: 1000000\n",
            "@timefn: calculate_z_serial_purepython took 7.983320474624634 seconds\n",
            "calculate_z_serial_purepython took 7.983320474624634 seconds\n",
            "Length of x: 1000\n",
            "Total elements: 1000000\n",
            "@timefn: calculate_z_serial_purepython took 8.257070064544678 seconds\n",
            "calculate_z_serial_purepython took 8.257070064544678 seconds\n",
            "Length of x: 1000\n",
            "Total elements: 1000000\n",
            "@timefn: calculate_z_serial_purepython took 8.127871990203857 seconds\n",
            "calculate_z_serial_purepython took 8.127871990203857 seconds\n",
            "Length of x: 1000\n",
            "Total elements: 1000000\n",
            "@timefn: calculate_z_serial_purepython took 8.064660787582397 seconds\n",
            "calculate_z_serial_purepython took 8.064660787582397 seconds\n",
            "Length of x: 1000\n",
            "Total elements: 1000000\n",
            "@timefn: calculate_z_serial_purepython took 8.217652320861816 seconds\n",
            "calculate_z_serial_purepython took 8.217652320861816 seconds\n",
            "Length of x: 1000\n",
            "Total elements: 1000000\n",
            "@timefn: calculate_z_serial_purepython took 8.578344106674194 seconds\n",
            "calculate_z_serial_purepython took 8.578344106674194 seconds\n",
            "Length of x: 1000\n",
            "Total elements: 1000000\n",
            "@timefn: calculate_z_serial_purepython took 8.140380859375 seconds\n",
            "calculate_z_serial_purepython took 8.140380859375 seconds\n",
            "Length of x: 1000\n",
            "Total elements: 1000000\n",
            "@timefn: calculate_z_serial_purepython took 8.52549409866333 seconds\n",
            "calculate_z_serial_purepython took 8.52549409866333 seconds\n",
            "Length of x: 1000\n",
            "Total elements: 1000000\n",
            "@timefn: calculate_z_serial_purepython took 8.588084697723389 seconds\n",
            "calculate_z_serial_purepython took 8.588084697723389 seconds\n",
            "Length of x: 1000\n",
            "Total elements: 1000000\n",
            "@timefn: calculate_z_serial_purepython took 8.129384756088257 seconds\n",
            "calculate_z_serial_purepython took 8.129384756088257 seconds\n",
            "Length of x: 1000\n",
            "Total elements: 1000000\n",
            "@timefn: calculate_z_serial_purepython took 8.223529577255249 seconds\n",
            "calculate_z_serial_purepython took 8.223529577255249 seconds\n",
            "Length of x: 1000\n",
            "Total elements: 1000000\n",
            "@timefn: calculate_z_serial_purepython took 8.023075580596924 seconds\n",
            "calculate_z_serial_purepython took 8.023075580596924 seconds\n",
            "Length of x: 1000\n",
            "Total elements: 1000000\n",
            "@timefn: calculate_z_serial_purepython took 8.66126275062561 seconds\n",
            "calculate_z_serial_purepython took 8.66126275062561 seconds\n",
            "Length of x: 1000\n",
            "Total elements: 1000000\n",
            "@timefn: calculate_z_serial_purepython took 7.973547697067261 seconds\n",
            "calculate_z_serial_purepython took 7.973547697067261 seconds\n",
            "Length of x: 1000\n",
            "Total elements: 1000000\n",
            "@timefn: calculate_z_serial_purepython took 8.326640605926514 seconds\n",
            "calculate_z_serial_purepython took 8.326640605926514 seconds\n",
            "Length of x: 1000\n",
            "Total elements: 1000000\n",
            "@timefn: calculate_z_serial_purepython took 8.174168348312378 seconds\n",
            "calculate_z_serial_purepython took 8.174168348312378 seconds\n",
            "Length of x: 1000\n",
            "Total elements: 1000000\n",
            "@timefn: calculate_z_serial_purepython took 7.995075702667236 seconds\n",
            "calculate_z_serial_purepython took 7.995075702667236 seconds\n",
            "Length of x: 1000\n",
            "Total elements: 1000000\n",
            "@timefn: calculate_z_serial_purepython took 8.615201473236084 seconds\n",
            "calculate_z_serial_purepython took 8.615201473236084 seconds\n",
            "Length of x: 1000\n",
            "Total elements: 1000000\n",
            "@timefn: calculate_z_serial_purepython took 8.98069977760315 seconds\n",
            "calculate_z_serial_purepython took 8.981223821640015 seconds\n",
            "Length of x: 1000\n",
            "Total elements: 1000000\n",
            "@timefn: calculate_z_serial_purepython took 10.382941246032715 seconds\n",
            "calculate_z_serial_purepython took 10.382941246032715 seconds\n",
            "Length of x: 1000\n",
            "Total elements: 1000000\n",
            "@timefn: calculate_z_serial_purepython took 9.27985143661499 seconds\n",
            "calculate_z_serial_purepython took 9.27985143661499 seconds\n",
            "8.4 s ± 636 ms per loop (mean ± std. dev. of 5 runs, 10 loops each)\n"
          ]
        }
      ],
      "source": [
        "%timeit -r 5 -n 10 calc_pure_python(desired_width=1000, max_iterations=300)"
      ]
    },
    {
      "cell_type": "markdown",
      "metadata": {
        "id": "7KwMO8rRgQQ2"
      },
      "source": [
        "4. Use the cProfile module to profile the source code (.py). Sort the results by the time spent inside each function. This will give a view into the slowest parts. Analyze the output and make a syntesis of the findings. Show how to use the cProfile module on the command line and on a Jupyter Notebook."
      ]
    },
    {
      "cell_type": "code",
      "execution_count": 14,
      "metadata": {
        "id": "WDEUciBygY6Q"
      },
      "outputs": [
        {
          "name": "stdout",
          "output_type": "stream",
          "text": [
            "Length of x: 1000\n",
            "Total elements: 1000000\n",
            "calculate_z_serial_purepython took 15.080909490585327 seconds\n"
          ]
        }
      ],
      "source": [
        "import cProfile\n",
        "import time\n",
        "\n",
        "# Attempt to import the profile decorator from line_profiler if installed\n",
        "try:\n",
        "    from line_profiler import profile\n",
        "except ImportError:\n",
        "    def profile(func):\n",
        "        \"\"\" Dummy decorator in case line_profiler is not installed. \"\"\"\n",
        "        return func\n",
        "\n",
        "# area of complex space to investigate\n",
        "x1, x2, y1, y2 = -1.8, 1.8, -1.8, 1.8\n",
        "c_real, c_imag = -0.62772, -.42193\n",
        "\n",
        "@profile\n",
        "def calculate_z_serial_purepython(maxiter, zs, cs):\n",
        "    \"\"\"Calculate output list using Julia update rule\"\"\"\n",
        "    output = [0] * len(zs)\n",
        "    for i in range(len(zs)):\n",
        "        n = 0\n",
        "        z = zs[i]\n",
        "        c = cs[i]\n",
        "        while abs(z) < 2 and n < maxiter:\n",
        "            z = z * z + c\n",
        "            n += 1\n",
        "        output[i] = n\n",
        "    return output\n",
        "\n",
        "@profile\n",
        "def calc_pure_python(draw_output, desired_width, max_iterations):\n",
        "    \"\"\"Create a list of complex coordinates (zs) and complex parameters (cs), build Julia set and display\"\"\"\n",
        "    x_step = (x2 - x1) / desired_width\n",
        "    y_step = (y2 - y1) / desired_width\n",
        "    x = [x1 + i * x_step for i in range(desired_width)]\n",
        "    y = [y1 + i * y_step for i in range(desired_width)]\n",
        "    zs = [complex(x[i % desired_width], y[i // desired_width]) for i in range(desired_width ** 2)]\n",
        "    cs = [complex(c_real, c_imag) for i in range(desired_width ** 2)]\n",
        "\n",
        "    print(\"Length of x:\", len(x))\n",
        "    print(\"Total elements:\", len(zs))\n",
        "    start_time = time.time()\n",
        "    output = calculate_z_serial_purepython(max_iterations, zs, cs)\n",
        "    end_time = time.time()\n",
        "    secs = end_time - start_time\n",
        "    print(calculate_z_serial_purepython.__name__ + \" took\", secs, \"seconds\")\n",
        "\n",
        "    assert sum(output) == 33219980  # this sum is expected for a 1000^2 grid with 300 iterations\n",
        "\n",
        "if __name__ == \"__main__\":\n",
        "    cProfile.run('calc_pure_python(draw_output=False, desired_width=1000, max_iterations=300)', 'profile_stats')\n"
      ]
    },
    {
      "cell_type": "code",
      "execution_count": 15,
      "metadata": {},
      "outputs": [
        {
          "name": "stdout",
          "output_type": "stream",
          "text": [
            "Thu Apr  4 20:14:08 2024    profile_stats\n",
            "\n",
            "         34220127 function calls in 15.806 seconds\n",
            "\n",
            "   Ordered by: cumulative time\n",
            "   List reduced from 29 to 10 due to restriction <10>\n",
            "\n",
            "   ncalls  tottime  percall  cumtime  percall filename:lineno(function)\n",
            "        1    0.000    0.000   15.806   15.806 {built-in method builtins.exec}\n",
            "        1    0.026    0.026   15.806   15.806 <string>:1(<module>)\n",
            "        1    0.000    0.000   15.780   15.780 C:\\Users\\angel\\AppData\\Local\\Temp\\ipykernel_17672\\2613920211.py:30(calc_pure_python)\n",
            "        1   10.286   10.286   15.080   15.080 C:\\Users\\angel\\AppData\\Local\\Temp\\ipykernel_17672\\2613920211.py:16(calculate_z_serial_purepython)\n",
            " 34219980    4.794    0.000    4.794    0.000 {built-in method builtins.abs}\n",
            "        1    0.447    0.447    0.447    0.447 C:\\Users\\angel\\AppData\\Local\\Temp\\ipykernel_17672\\2613920211.py:37(<listcomp>)\n",
            "        1    0.241    0.241    0.241    0.241 C:\\Users\\angel\\AppData\\Local\\Temp\\ipykernel_17672\\2613920211.py:38(<listcomp>)\n",
            "        1    0.009    0.009    0.009    0.009 {built-in method builtins.sum}\n",
            "        3    0.000    0.000    0.002    0.001 {built-in method builtins.print}\n",
            "       14    0.001    0.000    0.002    0.000 C:\\Users\\angel\\AppData\\Local\\Packages\\PythonSoftwareFoundation.Python.3.10_qbz5n2kfra8p0\\LocalCache\\local-packages\\Python310\\site-packages\\ipykernel\\iostream.py:518(write)\n",
            "\n",
            "\n"
          ]
        },
        {
          "data": {
            "text/plain": [
              "<pstats.Stats at 0x26ce6ba4bb0>"
            ]
          },
          "execution_count": 15,
          "metadata": {},
          "output_type": "execute_result"
        }
      ],
      "source": [
        "import pstats\n",
        "p = pstats.Stats('profile_stats')\n",
        "p.sort_stats('cumulative').print_stats(10)  # Adjust this number to display more or fewer lines"
      ]
    },
    {
      "cell_type": "markdown",
      "metadata": {
        "id": "fvu1FL0lgZvf"
      },
      "source": [
        "5. Use snakeviz to get a high-level understanding of the cPrifile statistics file. Analyze the output and make a syntesis of the findings."
      ]
    },
    {
      "cell_type": "code",
      "execution_count": 16,
      "metadata": {
        "id": "WQfAuqF5ghsn"
      },
      "outputs": [
        {
          "name": "stdout",
          "output_type": "stream",
          "text": [
            "Requirement already satisfied: snakeviz in c:\\users\\angel\\appdata\\local\\packages\\pythonsoftwarefoundation.python.3.10_qbz5n2kfra8p0\\localcache\\local-packages\\python310\\site-packages (2.2.0)\n",
            "Requirement already satisfied: tornado>=2.0 in c:\\users\\angel\\appdata\\local\\packages\\pythonsoftwarefoundation.python.3.10_qbz5n2kfra8p0\\localcache\\local-packages\\python310\\site-packages (from snakeviz) (6.2)\n"
          ]
        },
        {
          "name": "stderr",
          "output_type": "stream",
          "text": [
            "\n",
            "[notice] A new release of pip is available: 23.3.2 -> 24.0\n",
            "[notice] To update, run: C:\\Users\\angel\\AppData\\Local\\Microsoft\\WindowsApps\\PythonSoftwareFoundation.Python.3.10_qbz5n2kfra8p0\\python.exe -m pip install --upgrade pip\n"
          ]
        }
      ],
      "source": [
        "!pip install snakeviz"
      ]
    },
    {
      "cell_type": "code",
      "execution_count": 17,
      "metadata": {},
      "outputs": [
        {
          "name": "stdout",
          "output_type": "stream",
          "text": [
            "Length of x: 1000\n",
            "Total elements: 1000000\n",
            "calculate_z_serial_purepython took 14.296393394470215 seconds\n"
          ]
        }
      ],
      "source": [
        "if __name__ == \"__main__\":\n",
        "    cProfile.run('calc_pure_python(draw_output=False, desired_width=1000, max_iterations=300)', 'profile_stats')"
      ]
    },
    {
      "cell_type": "code",
      "execution_count": 18,
      "metadata": {},
      "outputs": [
        {
          "name": "stderr",
          "output_type": "stream",
          "text": [
            "snakeviz: error: the path c:\\Users\\angel\\Documents\\7mo\\CA3.-High-Performance-Python\\Part 1_Benchmarking and Profiling\\'profile_stats' does not exist\n",
            "\n",
            "usage: snakeviz [-h] [-v] [-H ADDR] [-p PORT] [-b BROWSER_PATH] [-s] filename\n",
            "\n",
            "Start SnakeViz to view a Python profile.\n",
            "\n",
            "positional arguments:\n",
            "  filename              Python profile to view\n",
            "\n",
            "options:\n",
            "  -h, --help            show this help message and exit\n",
            "  -v, --version         show program's version number and exit\n",
            "  -H ADDR, --hostname ADDR\n",
            "                        hostname to bind to (default: 127.0.0.1)\n",
            "  -p PORT, --port PORT  port to bind to; if this port is already in use a free\n",
            "                        port will be selected automatically (default: 8080)\n",
            "  -b BROWSER_PATH, --browser BROWSER_PATH\n",
            "                        name of webbrowser to launch as described in the\n",
            "                        documentation of Python's webbrowser module:\n",
            "                        https://docs.python.org/3/library/webbrowser.html\n",
            "  -s, --server          start SnakeViz in server-only mode--no attempt will be\n",
            "                        made to open a browser\n"
          ]
        }
      ],
      "source": [
        "!snakeviz 'profile_stats'"
      ]
    },
    {
      "cell_type": "markdown",
      "metadata": {
        "id": "NLnIaqzogidu"
      },
      "source": [
        "6. Use the line_profiler and kernprof file to profile line-by-line the function\n",
        "calculate_z_serial_purepython. Analyze the output and make a syntesis of the\n",
        "findings."
      ]
    },
    {
      "cell_type": "code",
      "execution_count": 19,
      "metadata": {
        "id": "mT0NWNOKgqcD"
      },
      "outputs": [
        {
          "name": "stdout",
          "output_type": "stream",
          "text": [
            "Requirement already satisfied: line_profiler in c:\\users\\angel\\appdata\\local\\packages\\pythonsoftwarefoundation.python.3.10_qbz5n2kfra8p0\\localcache\\local-packages\\python310\\site-packages (4.1.2)\n"
          ]
        },
        {
          "name": "stderr",
          "output_type": "stream",
          "text": [
            "\n",
            "[notice] A new release of pip is available: 23.3.2 -> 24.0\n",
            "[notice] To update, run: C:\\Users\\angel\\AppData\\Local\\Microsoft\\WindowsApps\\PythonSoftwareFoundation.Python.3.10_qbz5n2kfra8p0\\python.exe -m pip install --upgrade pip\n"
          ]
        }
      ],
      "source": [
        "!pip install line_profiler"
      ]
    },
    {
      "cell_type": "code",
      "execution_count": 20,
      "metadata": {},
      "outputs": [],
      "source": [
        "%load_ext line_profiler"
      ]
    },
    {
      "cell_type": "code",
      "execution_count": 21,
      "metadata": {},
      "outputs": [
        {
          "name": "stdout",
          "output_type": "stream",
          "text": [
            "Length of x: 1000\n",
            "Total elements: 1000000\n",
            "calculate_z_serial_purepython took 10.298967599868774 seconds\n"
          ]
        }
      ],
      "source": [
        "import time\n",
        "\n",
        "# Attempt to import the profile decorator from line_profiler if installed\n",
        "try:\n",
        "    from line_profiler import profile\n",
        "except ImportError:\n",
        "    def profile(func):\n",
        "        \"\"\" Dummy decorator in case line_profiler is not installed. \"\"\"\n",
        "        return func\n",
        "\n",
        "# area of complex space to investigate\n",
        "x1, x2, y1, y2 = -1.8, 1.8, -1.8, 1.8\n",
        "c_real, c_imag = -0.62772, -.42193\n",
        "\n",
        "@profile\n",
        "def calculate_z_serial_purepython(maxiter, zs, cs):\n",
        "    \"\"\"Calculate output list using Julia update rule\"\"\"\n",
        "    output = [0] * len(zs)\n",
        "    for i in range(len(zs)):\n",
        "        n = 0\n",
        "        z = zs[i]\n",
        "        c = cs[i]\n",
        "        while abs(z) < 2 and n < maxiter:\n",
        "            z = z * z + c\n",
        "            n += 1\n",
        "        output[i] = n\n",
        "    return output\n",
        "\n",
        "@profile\n",
        "def calc_pure_python(draw_output, desired_width, max_iterations):\n",
        "    \"\"\"Create a list of complex coordinates (zs) and complex parameters (cs), build Julia set and display\"\"\"\n",
        "    x_step = (x2 - x1) / desired_width\n",
        "    y_step = (y2 - y1) / desired_width\n",
        "    x = [x1 + i * x_step for i in range(desired_width)]\n",
        "    y = [y1 + i * y_step for i in range(desired_width)]\n",
        "    zs = [complex(x[i % desired_width], y[i // desired_width]) for i in range(desired_width ** 2)]\n",
        "    cs = [complex(c_real, c_imag) for i in range(desired_width ** 2)]\n",
        "\n",
        "    print(\"Length of x:\", len(x))\n",
        "    print(\"Total elements:\", len(zs))\n",
        "    start_time = time.time()\n",
        "    output = calculate_z_serial_purepython(max_iterations, zs, cs)\n",
        "    end_time = time.time()\n",
        "    secs = end_time - start_time\n",
        "    print(calculate_z_serial_purepython.__name__ + \" took\", secs, \"seconds\")\n",
        "\n",
        "    assert sum(output) == 33219980  # this sum is expected for a 1000^2 grid with 300 iterations\n",
        "\n",
        "# Calculate the Julia set using a pure Python solution with\n",
        "# reasonable defaults for a laptop\n",
        "calc_pure_python(draw_output=False, desired_width=1000, max_iterations=300)\n"
      ]
    },
    {
      "cell_type": "code",
      "execution_count": 22,
      "metadata": {},
      "outputs": [
        {
          "name": "stdout",
          "output_type": "stream",
          "text": [
            "Length of x: 1000\n",
            "Total elements: 1000000\n",
            "calculate_z_serial_purepython took 104.47628998756409 seconds\n"
          ]
        },
        {
          "name": "stdout",
          "output_type": "stream",
          "text": [
            "Timer unit: 1e-07 s\n",
            "\n",
            "Total time: 67.1853 s\n",
            "File: C:\\Users\\angel\\AppData\\Local\\Temp\\ipykernel_17672\\2939688537.py\n",
            "Function: calculate_z_serial_purepython at line 15\n",
            "\n",
            "Line #      Hits         Time  Per Hit   % Time  Line Contents\n",
            "==============================================================\n",
            "    15                                           @profile\n",
            "    16                                           def calculate_z_serial_purepython(maxiter, zs, cs):\n",
            "    17                                               \"\"\"Calculate output list using Julia update rule\"\"\"\n",
            "    18         1      72355.0  72355.0      0.0      output = [0] * len(zs)\n",
            "    19   1000001    5224260.0      5.2      0.8      for i in range(len(zs)):\n",
            "    20   1000000    4645870.0      4.6      0.7          n = 0\n",
            "    21   1000000    5667042.0      5.7      0.8          z = zs[i]\n",
            "    22   1000000    5161151.0      5.2      0.8          c = cs[i]\n",
            "    23  34219980  274462572.0      8.0     40.9          while abs(z) < 2 and n < maxiter:\n",
            "    24  33219980  201096046.0      6.1     29.9              z = z * z + c\n",
            "    25  33219980  169558471.0      5.1     25.2              n += 1\n",
            "    26   1000000    5965493.0      6.0      0.9          output[i] = n\n",
            "    27         1         12.0     12.0      0.0      return output"
          ]
        }
      ],
      "source": [
        "%lprun -f calculate_z_serial_purepython calc_pure_python(draw_output=False, desired_width=1000, max_iterations=300)"
      ]
    },
    {
      "cell_type": "markdown",
      "metadata": {
        "id": "8Mltml7Igqsd"
      },
      "source": [
        "7. Use the memory_profiler to diagnose memory usage. Analyze the output and make\n",
        "a syntesis of the findings."
      ]
    },
    {
      "cell_type": "code",
      "execution_count": 23,
      "metadata": {
        "id": "fyLBXfxqgzo4"
      },
      "outputs": [
        {
          "name": "stdout",
          "output_type": "stream",
          "text": [
            "Requirement already satisfied: memory_profiler in c:\\users\\angel\\appdata\\local\\packages\\pythonsoftwarefoundation.python.3.10_qbz5n2kfra8p0\\localcache\\local-packages\\python310\\site-packages (0.61.0)\n",
            "Requirement already satisfied: psutil in c:\\users\\angel\\appdata\\local\\packages\\pythonsoftwarefoundation.python.3.10_qbz5n2kfra8p0\\localcache\\local-packages\\python310\\site-packages (from memory_profiler) (5.9.2)\n"
          ]
        },
        {
          "name": "stderr",
          "output_type": "stream",
          "text": [
            "\n",
            "[notice] A new release of pip is available: 23.3.2 -> 24.0\n",
            "[notice] To update, run: C:\\Users\\angel\\AppData\\Local\\Microsoft\\WindowsApps\\PythonSoftwareFoundation.Python.3.10_qbz5n2kfra8p0\\python.exe -m pip install --upgrade pip\n"
          ]
        },
        {
          "name": "stdout",
          "output_type": "stream",
          "text": [
            "Requirement already satisfied: psutil in c:\\users\\angel\\appdata\\local\\packages\\pythonsoftwarefoundation.python.3.10_qbz5n2kfra8p0\\localcache\\local-packages\\python310\\site-packages (5.9.2)\n"
          ]
        },
        {
          "name": "stderr",
          "output_type": "stream",
          "text": [
            "\n",
            "[notice] A new release of pip is available: 23.3.2 -> 24.0\n",
            "[notice] To update, run: C:\\Users\\angel\\AppData\\Local\\Microsoft\\WindowsApps\\PythonSoftwareFoundation.Python.3.10_qbz5n2kfra8p0\\python.exe -m pip install --upgrade pip\n"
          ]
        }
      ],
      "source": [
        "!pip install memory_profiler\n",
        "!pip install psutil"
      ]
    },
    {
      "cell_type": "code",
      "execution_count": 24,
      "metadata": {},
      "outputs": [],
      "source": [
        "%load_ext memory_profiler"
      ]
    },
    {
      "cell_type": "code",
      "execution_count": 25,
      "metadata": {},
      "outputs": [
        {
          "name": "stdout",
          "output_type": "stream",
          "text": [
            "Length of x values: 1000\n",
            "Total elements: 1000000\n",
            "calculate_z_serial took 11.605656385421753 seconds\n",
            "peak memory: 166.72 MiB, increment: 79.73 MiB\n"
          ]
        }
      ],
      "source": [
        "%%memit\n",
        "# Import required libraries\n",
        "import time\n",
        "\n",
        "# Define the boundaries of the complex space and specific parameters\n",
        "lower_x, upper_x, lower_y, upper_y = -1.8, 1.8, -1.8, 1.8\n",
        "real_part, imaginary_part = -0.62772, -0.42193\n",
        "\n",
        "def calculate_z_serial(max_iterations, zs, cs):\n",
        "    \"\"\"Calculates and returns a list with the iteration count for each point.\"\"\"\n",
        "    result = [0] * len(zs)\n",
        "    for i in range(len(zs)):\n",
        "        iterations = 0\n",
        "        z = zs[i]\n",
        "        c = cs[i]\n",
        "        while abs(z) < 2 and iterations < max_iterations:\n",
        "            z = z**2 + c\n",
        "            iterations += 1\n",
        "        result[i] = iterations\n",
        "    return result\n",
        "\n",
        "def generate_julia(draw_output, desired_width, max_iterations):\n",
        "    \"\"\"Generates and computes the Julia set for a set of complex coordinates.\"\"\"\n",
        "    x_step = (upper_x - lower_x) / desired_width\n",
        "    y_step = (upper_y - lower_y) / desired_width\n",
        "    x_values = [lower_x + i * x_step for i in range(desired_width)]\n",
        "    y_values = [lower_y + i * y_step for i in range(desired_width)]\n",
        "    zs = [complex(x_values[i % desired_width], y_values[i // desired_width]) for i in range(desired_width ** 2)]\n",
        "    cs = [complex(real_part, imaginary_part) for i in range(desired_width ** 2)]\n",
        "\n",
        "    print(\"Length of x values:\", len(x_values))\n",
        "    print(\"Total elements:\", len(zs))\n",
        "    start_time = time.time()\n",
        "    result = calculate_z_serial(max_iterations, zs, cs)\n",
        "    end_time = time.time()\n",
        "    execution_time = end_time - start_time\n",
        "    print(calculate_z_serial.__name__ + \" took\", execution_time, \"seconds\")\n",
        "\n",
        "    assert sum(result) == 33219980  # Expected sum for a 1000^2 grid with 300 iterations\n",
        "\n",
        "# Execute the function with given parameters\n",
        "generate_julia(draw_output=False, desired_width=1000, max_iterations=300)\n",
        "\n"
      ]
    }
  ],
  "metadata": {
    "colab": {
      "provenance": []
    },
    "kernelspec": {
      "display_name": "Python 3",
      "name": "python3"
    },
    "language_info": {
      "codemirror_mode": {
        "name": "ipython",
        "version": 3
      },
      "file_extension": ".py",
      "mimetype": "text/x-python",
      "name": "python",
      "nbconvert_exporter": "python",
      "pygments_lexer": "ipython3",
      "version": "3.10.11"
    }
  },
  "nbformat": 4,
  "nbformat_minor": 0
}
