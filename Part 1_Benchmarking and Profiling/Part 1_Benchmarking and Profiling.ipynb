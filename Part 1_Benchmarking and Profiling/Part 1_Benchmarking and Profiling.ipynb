{
  "cells": [
    {
      "cell_type": "markdown",
      "metadata": {
        "id": "xRNjXZ0Z7uCT"
      },
      "source": [
        "# **CA4. Multiprocessing**\n",
        "**Sansores Cruz Angel David\\\n",
        "Data Engineering\\\n",
        "Universidad Politécnica de Yucatán\\\n",
        "Ucú, Yucatán, México\\\n",
        "2109139@upy.edu.mx** \\\n",
        "\n",
        "# Part 1. Benchmarking and Profiling\n",
        "\n",
        "**The Julia set is an interesting CPU-bound problem for us to begin with. It is a fractal sequence that generates a complex output image, named after Gaston Julia.**\n",
        "\n",
        "1. Read the sections “Introducing the Julia Set” and “Calculating the Full Julia Set” on Chapter 2. Profiling to Find Bottlenecks from the book: **M. Gorelick & I. Ozsvald(2020). High Performance Python. Practical Performant Programming for Humans. Second Edition. United States of America: O’Reilly Media, Inc.** Implement the chapter functions (Example 2-1, 2-2, 2-3 and 2-4) on Python in order to calculate the Julia Set. Make the representation for the false gray and pure gray scale."
      ]
    },
    {
      "cell_type": "code",
      "execution_count": 8,
      "metadata": {
        "id": "5gm2p4kno0k5"
      },
      "outputs": [],
      "source": [
        "import time"
      ]
    },
    {
      "cell_type": "code",
      "execution_count": 9,
      "metadata": {
        "id": "dP4K0cPY70zY"
      },
      "outputs": [],
      "source": [
        "#Example 2-1. Defining global constants for the coordinate space\n",
        "\"\"\"Julia set generator without optional PIL-based image drawing\"\"\"\n",
        "# area of complex space to investigate\n",
        "x1, x2, y1, y2 = -1.8, 1.8, -1.8, 1.8\n",
        "c_real, c_imag = -0.62772, -.42193"
      ]
    },
    {
      "cell_type": "code",
      "execution_count": 11,
      "metadata": {},
      "outputs": [],
      "source": [
        "#Example 2-3. Our CPU-bound calculation function\n",
        "def calculate_z_serial_purepython(maxiter, zs, cs):\n",
        "  \"\"\"Calculate output list using Julia update rule\"\"\"\n",
        "  output = [0] * len(zs)\n",
        "  for i in range(len(zs)):\n",
        "    n = 0\n",
        "    z = zs[i]\n",
        "    c = cs[i]\n",
        "    while abs(z) < 2 and n < maxiter:\n",
        "      z = z * z + c\n",
        "      n += 1\n",
        "    output[i] = n\n",
        "  return output"
      ]
    },
    {
      "cell_type": "code",
      "execution_count": 13,
      "metadata": {},
      "outputs": [],
      "source": [
        "# Example 2-2. stablishing the coordinate lists as inputs to our calculation function\n",
        "def calc_pure_python(desired_width, max_iterations):\n",
        "  \"\"\"Create a list of complex coordinates (zs) and complex parameters (cs),\n",
        " build Julia set\"\"\"\n",
        "  x_step = (x2 - x1) / desired_width\n",
        "  y_step = (y1 - y2) / desired_width\n",
        "  x = []\n",
        "  y = []\n",
        "  ycoord = y2\n",
        "  while ycoord > y1:\n",
        "    y.append(ycoord)\n",
        "    ycoord += y_step\n",
        "  xcoord = x1\n",
        "  while xcoord < x2:\n",
        "    x.append(xcoord)\n",
        "    xcoord += x_step\n",
        "# build a list of coordinates and the initial condition for each cell.\n",
        "# Note that our initial condition is a constant and could easily be removed,\n",
        "# we use it to simulate a real-world scenario with several inputs to our\n",
        "# function\n",
        "  zs = []\n",
        "  cs = []\n",
        "  for ycoord in y:\n",
        "    for xcoord in x:\n",
        "      zs.append(complex(xcoord, ycoord))\n",
        "      cs.append(complex(c_real, c_imag))\n",
        "  print(\"Length of x:\", len(x))\n",
        "  print(\"Total elements:\", len(zs))\n",
        "  start_time = time.time()\n",
        "  output = calculate_z_serial_purepython(max_iterations, zs, cs)\n",
        "  end_time = time.time()\n",
        "  secs = end_time - start_time\n",
        "  print(calculate_z_serial_purepython.__name__ + \" took\", secs, \"seconds\")\n",
        "# This sum is expected for a 1000^2 grid with 300 iterations\n",
        "# It ensures that our code evolves exactly as we'd intended\n",
        "  assert sum(output) == 33219980"
      ]
    },
    {
      "cell_type": "markdown",
      "metadata": {
        "id": "UHlFuSfb7aEv"
      },
      "source": [
        "**Once we run the next code, we see some output about the complexity of the problem:**\\\n",
        "**running the above produces:**\\\n",
        "Length of x: 1000\\\n",
        "Total elements: 1000000\\\n",
        "calculate_z_serial_purepython took 8.087012767791748 seconds"
      ]
    },
    {
      "cell_type": "code",
      "execution_count": 14,
      "metadata": {
        "colab": {
          "base_uri": "https://localhost:8080/"
        },
        "id": "G_YonmJiwt1Z",
        "outputId": "9b641e90-ba07-4ac0-af0e-0d9d562f260f"
      },
      "outputs": [
        {
          "name": "stdout",
          "output_type": "stream",
          "text": [
            "Length of x: 1000\n",
            "Total elements: 1000000\n",
            "calculate_z_serial_purepython took 7.980515718460083 seconds\n"
          ]
        }
      ],
      "source": [
        "if __name__ == \"__main__\":\n",
        "# Calculate the Julia set using a pure Python solution with\n",
        "# reasonable defaults for a laptop\n",
        "  calc_pure_python(desired_width=1000, max_iterations=300)\n"
      ]
    },
    {
      "cell_type": "markdown",
      "metadata": {
        "id": "_gMc_PFR-PWi"
      },
      "source": [
        "# Representation for **False Gray** and **Pure Grayscale**"
      ]
    },
    {
      "cell_type": "code",
      "execution_count": 22,
      "metadata": {},
      "outputs": [],
      "source": [
        "import time\n",
        "from PIL import Image\n",
        "import array\n"
      ]
    },
    {
      "cell_type": "code",
      "execution_count": 23,
      "metadata": {},
      "outputs": [],
      "source": [
        "def show_false_greyscale(output_raw, width, height, max_iterations):\n",
        "    \"\"\"Convert list to array, show using PIL\"\"\"\n",
        "    # convert our output to PIL-compatible input\n",
        "    assert width * height == len(output_raw)  \n",
        "    max_value = float(max(output_raw))\n",
        "    output_raw_limited = [int(float(o) / max_value * 255) for o in output_raw]\n",
        "    output_rgb = ((o + (256 * o) + (256 ** 2) * o) * 16 for o in output_raw_limited)\n",
        "    output_rgb = array.array('I', output_rgb) \n",
        "    # display with PIL/pillow\n",
        "    im = Image.new(\"RGB\", (width, height))\n",
        "    \n",
        "    im.frombytes(output_rgb.tobytes(), \"raw\", \"RGBX\", 0, -1)\n",
        "    im.show()"
      ]
    },
    {
      "cell_type": "code",
      "execution_count": 24,
      "metadata": {},
      "outputs": [],
      "source": [
        "def show_greyscale(output_raw, width, height, max_iterations):\n",
        "    \"\"\"Convert list to array, show using PIL\"\"\"\n",
        "    # convert our output to PIL-compatible input\n",
        "    max_iterations = float(max(output_raw))\n",
        "    print(max_iterations)\n",
        "    scale_factor = float(max_iterations)\n",
        "    scaled = [int(o / scale_factor * 255) for o in output_raw]\n",
        "    output = array.array('B', scaled)  \n",
        "    # display with PIL\n",
        "    im = Image.new(\"L\", (width, width))\n",
        "    \n",
        "    im.frombytes(output.tobytes(), \"raw\", \"L\", 0, -1)\n",
        "    im.show()"
      ]
    },
    {
      "cell_type": "code",
      "execution_count": 25,
      "metadata": {},
      "outputs": [],
      "source": [
        "def calc_pure_python(draw_output, desired_width, max_iterations):\n",
        "    \"\"\"Create a list of complex co-ordinates (zs) and complex parameters (cs), build Julia set and display\"\"\"\n",
        "    x_step = (x2 - x1) / desired_width\n",
        "    y_step = (y1 - y2) / desired_width\n",
        "    x = []\n",
        "    y = []\n",
        "    ycoord = y2\n",
        "    while ycoord > y1:\n",
        "        y.append(ycoord)\n",
        "        ycoord += y_step\n",
        "    xcoord = x1\n",
        "    while xcoord < x2:\n",
        "        x.append(xcoord)\n",
        "        xcoord += x_step\n",
        "    # set width and height to the generated pixel counts, rather than the\n",
        "    # pre-rounding desired width and height\n",
        "    width = len(x)\n",
        "    height = len(y)\n",
        "    # build a list of co-ordinates and the initial condition for each cell.\n",
        "    # Note that our initial condition is a constant and could easily be removed,\n",
        "    # we use it to simulate a real-world scenario with several inputs to our function\n",
        "    zs = []\n",
        "    cs = []\n",
        "    for ycoord in y:\n",
        "        for xcoord in x:\n",
        "            zs.append(complex(xcoord, ycoord))\n",
        "            cs.append(complex(c_real, c_imag))\n",
        "\n",
        "    print(\"Length of x:\", len(x))\n",
        "    print(\"Total elements:\", len(zs))\n",
        "    start_time = time.time()\n",
        "    output = calculate_z_serial_purepython(max_iterations, zs, cs)\n",
        "    end_time = time.time()\n",
        "    secs = end_time - start_time\n",
        "    print(calculate_z_serial_purepython.__name__ + \" took\", secs, \"seconds\")\n",
        "\n",
        "    assert sum(output) == 33219980  # this sum is expected for 1000^2 grid with 300 iterations\n",
        "\n",
        "    if draw_output:\n",
        "        show_greyscale(output, width, height, max_iterations)"
      ]
    },
    {
      "cell_type": "code",
      "execution_count": 26,
      "metadata": {
        "id": "uaulCTCK-_bp"
      },
      "outputs": [
        {
          "name": "stdout",
          "output_type": "stream",
          "text": [
            "Length of x: 1000\n",
            "Total elements: 1000000\n",
            "calculate_z_serial_purepython took 7.95766282081604 seconds\n",
            "300.0\n"
          ]
        }
      ],
      "source": [
        "if __name__ == \"__main__\":\n",
        "    # Calculate the Julia set using a pure Python solution with\n",
        "    # reasonable defaults for a laptop\n",
        "    # set draw_output to True to use PIL to draw an image\n",
        "    calc_pure_python(draw_output=True, desired_width=1000, max_iterations=300)"
      ]
    },
    {
      "cell_type": "markdown",
      "metadata": {
        "id": "mo8gvEeXf6dr"
      },
      "source": [
        "2. Define a new function, timefn, which takes a function as an argument: the inner function, measure_time, takes *args (a variable number of positional arguments) and **kwargs (a variable number of key/value arguments) and passes them through to fn for execution. Decorate calculate_z_serial_purepython with @timefn to profile it. Implement Example 2-5 and adapt your current source code."
      ]
    },
    {
      "cell_type": "code",
      "execution_count": 12,
      "metadata": {
        "id": "ZoXU3tu8gC7P"
      },
      "outputs": [],
      "source": [
        "# Example 2-5. Defining a decorator to automate timing measurements\n",
        "from functools import wraps\n",
        "\n",
        "def timefn(fn):\n",
        "    @wraps(fn)\n",
        "    def measure_time(*args, **kwargs):\n",
        "        t1 = time.time()\n",
        "        result = fn(*args, **kwargs)\n",
        "        t2 = time.time()\n",
        "        print(f\"@timefn: {fn.__name__} took {t2 - t1} seconds\")\n",
        "        return result\n",
        "    return measure_time"
      ]
    },
    {
      "cell_type": "code",
      "execution_count": 13,
      "metadata": {
        "id": "YNTKM73IUlwJ"
      },
      "outputs": [],
      "source": [
        "@timefn\n",
        "def calculate_z_serial_purepython(maxiter, zs, cs):\n",
        "    '''Calculate output list using Julia update rule'''\n",
        "    output = [0] * len(zs)\n",
        "    for i in range(len(zs)):\n",
        "        n = 0\n",
        "        z = zs[i]\n",
        "        c = cs[i]\n",
        "        while abs(z) < 2 and n < maxiter:\n",
        "            z = z * z + c\n",
        "            n += 1\n",
        "        output[i] = n\n",
        "    return output"
      ]
    },
    {
      "cell_type": "code",
      "execution_count": 14,
      "metadata": {
        "colab": {
          "base_uri": "https://localhost:8080/"
        },
        "id": "oqZnxdzGVQ-X",
        "outputId": "7953c7f5-f8e1-4069-88a9-f7390d31bb6b"
      },
      "outputs": [
        {
          "name": "stdout",
          "output_type": "stream",
          "text": [
            "Length of x: 1000\n",
            "Total elements: 1000000\n",
            "@timefn: calculate_z_serial_purepython took 7.679377794265747 seconds\n",
            "calculate_z_serial_purepython took 7.679377794265747 seconds\n"
          ]
        }
      ],
      "source": [
        "if __name__ == \"__main__\":\n",
        "    calc_pure_python(desired_width=1000, max_iterations=300)"
      ]
    },
    {
      "cell_type": "markdown",
      "metadata": {
        "id": "ZBr_QrFogNNH"
      },
      "source": [
        "3. Use the timeit modeule to get a coarse measurement of the execution speed of the CPU-bound function. Runs 10 loops with 5 repetitions. Show how to do the\n",
        "measurement on the command line and on a Jupyter Notebook."
      ]
    },
    {
      "cell_type": "code",
      "execution_count": 15,
      "metadata": {
        "colab": {
          "base_uri": "https://localhost:8080/",
          "height": 331
        },
        "id": "Ap7Cp68RgSHV",
        "outputId": "31a32308-6ff2-48fc-8291-03b3cecda46b"
      },
      "outputs": [
        {
          "name": "stdout",
          "output_type": "stream",
          "text": [
            "Length of x: 1000\n",
            "Total elements: 1000000\n",
            "@timefn: calculate_z_serial_purepython took 7.767012119293213 seconds\n",
            "calculate_z_serial_purepython took 7.767976760864258 seconds\n",
            "Length of x: 1000\n",
            "Total elements: 1000000\n",
            "@timefn: calculate_z_serial_purepython took 7.345585346221924 seconds\n",
            "calculate_z_serial_purepython took 7.345585346221924 seconds\n",
            "Length of x: 1000\n",
            "Total elements: 1000000\n",
            "@timefn: calculate_z_serial_purepython took 7.640723466873169 seconds\n",
            "calculate_z_serial_purepython took 7.640723466873169 seconds\n",
            "Length of x: 1000\n",
            "Total elements: 1000000\n",
            "@timefn: calculate_z_serial_purepython took 10.055392980575562 seconds\n",
            "calculate_z_serial_purepython took 10.055392980575562 seconds\n",
            "Length of x: 1000\n",
            "Total elements: 1000000\n",
            "@timefn: calculate_z_serial_purepython took 11.928690910339355 seconds\n",
            "calculate_z_serial_purepython took 11.928690910339355 seconds\n",
            "Length of x: 1000\n",
            "Total elements: 1000000\n",
            "@timefn: calculate_z_serial_purepython took 13.329841136932373 seconds\n",
            "calculate_z_serial_purepython took 13.329841136932373 seconds\n",
            "Length of x: 1000\n",
            "Total elements: 1000000\n",
            "@timefn: calculate_z_serial_purepython took 12.117093086242676 seconds\n",
            "calculate_z_serial_purepython took 12.117093086242676 seconds\n",
            "Length of x: 1000\n",
            "Total elements: 1000000\n",
            "@timefn: calculate_z_serial_purepython took 9.462244749069214 seconds\n",
            "calculate_z_serial_purepython took 9.462244749069214 seconds\n",
            "Length of x: 1000\n",
            "Total elements: 1000000\n",
            "@timefn: calculate_z_serial_purepython took 13.120788335800171 seconds\n",
            "calculate_z_serial_purepython took 13.120788335800171 seconds\n",
            "Length of x: 1000\n",
            "Total elements: 1000000\n",
            "@timefn: calculate_z_serial_purepython took 12.577548027038574 seconds\n",
            "calculate_z_serial_purepython took 12.577548027038574 seconds\n",
            "Length of x: 1000\n",
            "Total elements: 1000000\n",
            "@timefn: calculate_z_serial_purepython took 13.724385261535645 seconds\n",
            "calculate_z_serial_purepython took 13.724385261535645 seconds\n",
            "Length of x: 1000\n",
            "Total elements: 1000000\n",
            "@timefn: calculate_z_serial_purepython took 13.532726764678955 seconds\n",
            "calculate_z_serial_purepython took 13.532726764678955 seconds\n",
            "Length of x: 1000\n",
            "Total elements: 1000000\n",
            "@timefn: calculate_z_serial_purepython took 13.493283033370972 seconds\n",
            "calculate_z_serial_purepython took 13.494401931762695 seconds\n",
            "Length of x: 1000\n",
            "Total elements: 1000000\n",
            "@timefn: calculate_z_serial_purepython took 12.300419807434082 seconds\n",
            "calculate_z_serial_purepython took 12.300419807434082 seconds\n",
            "Length of x: 1000\n",
            "Total elements: 1000000\n",
            "@timefn: calculate_z_serial_purepython took 10.8501877784729 seconds\n",
            "calculate_z_serial_purepython took 10.8501877784729 seconds\n",
            "Length of x: 1000\n",
            "Total elements: 1000000\n",
            "@timefn: calculate_z_serial_purepython took 16.174298524856567 seconds\n",
            "calculate_z_serial_purepython took 16.174298524856567 seconds\n",
            "Length of x: 1000\n",
            "Total elements: 1000000\n",
            "@timefn: calculate_z_serial_purepython took 15.381483793258667 seconds\n",
            "calculate_z_serial_purepython took 15.381483793258667 seconds\n",
            "Length of x: 1000\n",
            "Total elements: 1000000\n",
            "@timefn: calculate_z_serial_purepython took 13.361324310302734 seconds\n",
            "calculate_z_serial_purepython took 13.361872434616089 seconds\n",
            "Length of x: 1000\n",
            "Total elements: 1000000\n",
            "@timefn: calculate_z_serial_purepython took 12.383506536483765 seconds\n",
            "calculate_z_serial_purepython took 12.384485960006714 seconds\n",
            "Length of x: 1000\n",
            "Total elements: 1000000\n",
            "@timefn: calculate_z_serial_purepython took 15.189385175704956 seconds\n",
            "calculate_z_serial_purepython took 15.189889907836914 seconds\n",
            "Length of x: 1000\n",
            "Total elements: 1000000\n",
            "@timefn: calculate_z_serial_purepython took 8.712830305099487 seconds\n",
            "calculate_z_serial_purepython took 8.712830305099487 seconds\n",
            "Length of x: 1000\n",
            "Total elements: 1000000\n",
            "@timefn: calculate_z_serial_purepython took 7.3483054637908936 seconds\n",
            "calculate_z_serial_purepython took 7.3483054637908936 seconds\n",
            "Length of x: 1000\n",
            "Total elements: 1000000\n",
            "@timefn: calculate_z_serial_purepython took 7.684609413146973 seconds\n",
            "calculate_z_serial_purepython took 7.684609413146973 seconds\n",
            "Length of x: 1000\n",
            "Total elements: 1000000\n",
            "@timefn: calculate_z_serial_purepython took 8.02495813369751 seconds\n",
            "calculate_z_serial_purepython took 8.02495813369751 seconds\n",
            "Length of x: 1000\n",
            "Total elements: 1000000\n",
            "@timefn: calculate_z_serial_purepython took 7.383379936218262 seconds\n",
            "calculate_z_serial_purepython took 7.383379936218262 seconds\n",
            "Length of x: 1000\n",
            "Total elements: 1000000\n",
            "@timefn: calculate_z_serial_purepython took 12.951026916503906 seconds\n",
            "calculate_z_serial_purepython took 12.951026916503906 seconds\n",
            "Length of x: 1000\n",
            "Total elements: 1000000\n",
            "@timefn: calculate_z_serial_purepython took 13.316243410110474 seconds\n",
            "calculate_z_serial_purepython took 13.316243410110474 seconds\n",
            "Length of x: 1000\n",
            "Total elements: 1000000\n",
            "@timefn: calculate_z_serial_purepython took 9.434074878692627 seconds\n",
            "calculate_z_serial_purepython took 9.434074878692627 seconds\n",
            "Length of x: 1000\n",
            "Total elements: 1000000\n",
            "@timefn: calculate_z_serial_purepython took 12.334067583084106 seconds\n",
            "calculate_z_serial_purepython took 12.334067583084106 seconds\n",
            "Length of x: 1000\n",
            "Total elements: 1000000\n",
            "@timefn: calculate_z_serial_purepython took 14.319196939468384 seconds\n",
            "calculate_z_serial_purepython took 14.319196939468384 seconds\n",
            "Length of x: 1000\n",
            "Total elements: 1000000\n",
            "@timefn: calculate_z_serial_purepython took 13.007639646530151 seconds\n",
            "calculate_z_serial_purepython took 13.008632898330688 seconds\n",
            "Length of x: 1000\n",
            "Total elements: 1000000\n",
            "@timefn: calculate_z_serial_purepython took 12.994633197784424 seconds\n",
            "calculate_z_serial_purepython took 12.995635032653809 seconds\n",
            "Length of x: 1000\n",
            "Total elements: 1000000\n",
            "@timefn: calculate_z_serial_purepython took 7.684840440750122 seconds\n",
            "calculate_z_serial_purepython took 7.684840440750122 seconds\n",
            "Length of x: 1000\n",
            "Total elements: 1000000\n",
            "@timefn: calculate_z_serial_purepython took 10.407381057739258 seconds\n",
            "calculate_z_serial_purepython took 10.407381057739258 seconds\n",
            "Length of x: 1000\n",
            "Total elements: 1000000\n",
            "@timefn: calculate_z_serial_purepython took 7.959383487701416 seconds\n",
            "calculate_z_serial_purepython took 7.959383487701416 seconds\n",
            "Length of x: 1000\n",
            "Total elements: 1000000\n",
            "@timefn: calculate_z_serial_purepython took 7.404913425445557 seconds\n",
            "calculate_z_serial_purepython took 7.404913425445557 seconds\n",
            "Length of x: 1000\n",
            "Total elements: 1000000\n",
            "@timefn: calculate_z_serial_purepython took 7.1409454345703125 seconds\n",
            "calculate_z_serial_purepython took 7.141267538070679 seconds\n",
            "Length of x: 1000\n",
            "Total elements: 1000000\n",
            "@timefn: calculate_z_serial_purepython took 7.438598871231079 seconds\n",
            "calculate_z_serial_purepython took 7.438598871231079 seconds\n",
            "Length of x: 1000\n",
            "Total elements: 1000000\n",
            "@timefn: calculate_z_serial_purepython took 7.072603464126587 seconds\n",
            "calculate_z_serial_purepython took 7.072603464126587 seconds\n",
            "Length of x: 1000\n",
            "Total elements: 1000000\n",
            "@timefn: calculate_z_serial_purepython took 7.663149356842041 seconds\n",
            "calculate_z_serial_purepython took 7.663149356842041 seconds\n",
            "Length of x: 1000\n",
            "Total elements: 1000000\n",
            "@timefn: calculate_z_serial_purepython took 6.895766258239746 seconds\n",
            "calculate_z_serial_purepython took 6.896721601486206 seconds\n",
            "Length of x: 1000\n",
            "Total elements: 1000000\n",
            "@timefn: calculate_z_serial_purepython took 7.313606023788452 seconds\n",
            "calculate_z_serial_purepython took 7.314605951309204 seconds\n",
            "Length of x: 1000\n",
            "Total elements: 1000000\n",
            "@timefn: calculate_z_serial_purepython took 6.898145437240601 seconds\n",
            "calculate_z_serial_purepython took 6.899146318435669 seconds\n",
            "Length of x: 1000\n",
            "Total elements: 1000000\n",
            "@timefn: calculate_z_serial_purepython took 7.607262134552002 seconds\n",
            "calculate_z_serial_purepython took 7.607262134552002 seconds\n",
            "Length of x: 1000\n",
            "Total elements: 1000000\n",
            "@timefn: calculate_z_serial_purepython took 6.966744422912598 seconds\n",
            "calculate_z_serial_purepython took 6.966744422912598 seconds\n",
            "Length of x: 1000\n",
            "Total elements: 1000000\n",
            "@timefn: calculate_z_serial_purepython took 7.334555625915527 seconds\n",
            "calculate_z_serial_purepython took 7.335560321807861 seconds\n",
            "Length of x: 1000\n",
            "Total elements: 1000000\n",
            "@timefn: calculate_z_serial_purepython took 7.151342868804932 seconds\n",
            "calculate_z_serial_purepython took 7.151342868804932 seconds\n",
            "Length of x: 1000\n",
            "Total elements: 1000000\n",
            "@timefn: calculate_z_serial_purepython took 7.3916895389556885 seconds\n",
            "calculate_z_serial_purepython took 7.3916895389556885 seconds\n",
            "Length of x: 1000\n",
            "Total elements: 1000000\n",
            "@timefn: calculate_z_serial_purepython took 6.842837333679199 seconds\n",
            "calculate_z_serial_purepython took 6.842837333679199 seconds\n",
            "Length of x: 1000\n",
            "Total elements: 1000000\n",
            "@timefn: calculate_z_serial_purepython took 7.229230642318726 seconds\n",
            "calculate_z_serial_purepython took 7.229230642318726 seconds\n",
            "10.7 s ± 2.28 s per loop (mean ± std. dev. of 5 runs, 10 loops each)\n"
          ]
        }
      ],
      "source": [
        "%timeit -r 5 -n 10 calc_pure_python(desired_width=1000, max_iterations=300)"
      ]
    },
    {
      "cell_type": "markdown",
      "metadata": {
        "id": "7KwMO8rRgQQ2"
      },
      "source": [
        "4. Use the cProfile module to profile the source code (.py). Sort the results by the time spent inside each function. This will give a view into the slowest parts. Analyze the output and make a syntesis of the findings. Show how to use the cProfile module on the command line and on a Jupyter Notebook."
      ]
    },
    {
      "cell_type": "code",
      "execution_count": 16,
      "metadata": {
        "id": "WDEUciBygY6Q"
      },
      "outputs": [
        {
          "name": "stdout",
          "output_type": "stream",
          "text": [
            "Length of x: 1000\n",
            "Total elements: 1000000\n",
            "calculate_z_serial_purepython took 12.715683460235596 seconds\n"
          ]
        }
      ],
      "source": [
        "import cProfile\n",
        "import time\n",
        "\n",
        "# Attempt to import the profile decorator from line_profiler if installed\n",
        "try:\n",
        "    from line_profiler import profile\n",
        "except ImportError:\n",
        "    def profile(func):\n",
        "        \"\"\" Dummy decorator in case line_profiler is not installed. \"\"\"\n",
        "        return func\n",
        "\n",
        "# area of complex space to investigate\n",
        "x1, x2, y1, y2 = -1.8, 1.8, -1.8, 1.8\n",
        "c_real, c_imag = -0.62772, -.42193\n",
        "\n",
        "@profile\n",
        "def calculate_z_serial_purepython(maxiter, zs, cs):\n",
        "    \"\"\"Calculate output list using Julia update rule\"\"\"\n",
        "    output = [0] * len(zs)\n",
        "    for i in range(len(zs)):\n",
        "        n = 0\n",
        "        z = zs[i]\n",
        "        c = cs[i]\n",
        "        while abs(z) < 2 and n < maxiter:\n",
        "            z = z * z + c\n",
        "            n += 1\n",
        "        output[i] = n\n",
        "    return output\n",
        "\n",
        "@profile\n",
        "def calc_pure_python(draw_output, desired_width, max_iterations):\n",
        "    \"\"\"Create a list of complex coordinates (zs) and complex parameters (cs), build Julia set and display\"\"\"\n",
        "    x_step = (x2 - x1) / desired_width\n",
        "    y_step = (y2 - y1) / desired_width\n",
        "    x = [x1 + i * x_step for i in range(desired_width)]\n",
        "    y = [y1 + i * y_step for i in range(desired_width)]\n",
        "    zs = [complex(x[i % desired_width], y[i // desired_width]) for i in range(desired_width ** 2)]\n",
        "    cs = [complex(c_real, c_imag) for i in range(desired_width ** 2)]\n",
        "\n",
        "    print(\"Length of x:\", len(x))\n",
        "    print(\"Total elements:\", len(zs))\n",
        "    start_time = time.time()\n",
        "    output = calculate_z_serial_purepython(max_iterations, zs, cs)\n",
        "    end_time = time.time()\n",
        "    secs = end_time - start_time\n",
        "    print(calculate_z_serial_purepython.__name__ + \" took\", secs, \"seconds\")\n",
        "\n",
        "    assert sum(output) == 33219980  # this sum is expected for a 1000^2 grid with 300 iterations\n",
        "\n",
        "if __name__ == \"__main__\":\n",
        "    cProfile.run('calc_pure_python(draw_output=False, desired_width=1000, max_iterations=300)', 'profile_stats')\n"
      ]
    },
    {
      "cell_type": "code",
      "execution_count": 17,
      "metadata": {},
      "outputs": [
        {
          "name": "stdout",
          "output_type": "stream",
          "text": [
            "Fri Apr  5 21:36:13 2024    profile_stats\n",
            "\n",
            "         34220127 function calls in 13.345 seconds\n",
            "\n",
            "   Ordered by: cumulative time\n",
            "   List reduced from 29 to 10 due to restriction <10>\n",
            "\n",
            "   ncalls  tottime  percall  cumtime  percall filename:lineno(function)\n",
            "        1    0.000    0.000   13.345   13.345 {built-in method builtins.exec}\n",
            "        1    0.028    0.028   13.345   13.345 <string>:1(<module>)\n",
            "        1    0.000    0.000   13.317   13.317 C:\\Users\\angel\\AppData\\Local\\Temp\\ipykernel_26316\\2613920211.py:30(calc_pure_python)\n",
            "        1    8.664    8.664   12.716   12.716 C:\\Users\\angel\\AppData\\Local\\Temp\\ipykernel_26316\\2613920211.py:16(calculate_z_serial_purepython)\n",
            " 34219980    4.052    0.000    4.052    0.000 {built-in method builtins.abs}\n",
            "        1    0.364    0.364    0.364    0.364 C:\\Users\\angel\\AppData\\Local\\Temp\\ipykernel_26316\\2613920211.py:37(<listcomp>)\n",
            "        1    0.228    0.228    0.228    0.228 C:\\Users\\angel\\AppData\\Local\\Temp\\ipykernel_26316\\2613920211.py:38(<listcomp>)\n",
            "        1    0.006    0.006    0.006    0.006 {built-in method builtins.sum}\n",
            "        3    0.000    0.000    0.002    0.001 {built-in method builtins.print}\n",
            "       14    0.002    0.000    0.002    0.000 C:\\Users\\angel\\AppData\\Local\\Packages\\PythonSoftwareFoundation.Python.3.10_qbz5n2kfra8p0\\LocalCache\\local-packages\\Python310\\site-packages\\ipykernel\\iostream.py:518(write)\n",
            "\n",
            "\n"
          ]
        },
        {
          "data": {
            "text/plain": [
              "<pstats.Stats at 0x25055e58490>"
            ]
          },
          "execution_count": 17,
          "metadata": {},
          "output_type": "execute_result"
        }
      ],
      "source": [
        "import pstats\n",
        "p = pstats.Stats('profile_stats')\n",
        "p.sort_stats('cumulative').print_stats(10)  # Adjust this number to display more or fewer lines"
      ]
    },
    {
      "cell_type": "markdown",
      "metadata": {
        "id": "fvu1FL0lgZvf"
      },
      "source": [
        "5. Use snakeviz to get a high-level understanding of the cPrifile statistics file. Analyze the output and make a syntesis of the findings."
      ]
    },
    {
      "cell_type": "code",
      "execution_count": 18,
      "metadata": {
        "id": "WQfAuqF5ghsn"
      },
      "outputs": [
        {
          "name": "stdout",
          "output_type": "stream",
          "text": [
            "Requirement already satisfied: snakeviz in c:\\users\\angel\\appdata\\local\\packages\\pythonsoftwarefoundation.python.3.10_qbz5n2kfra8p0\\localcache\\local-packages\\python310\\site-packages (2.2.0)\n",
            "Requirement already satisfied: tornado>=2.0 in c:\\users\\angel\\appdata\\local\\packages\\pythonsoftwarefoundation.python.3.10_qbz5n2kfra8p0\\localcache\\local-packages\\python310\\site-packages (from snakeviz) (6.2)\n"
          ]
        }
      ],
      "source": [
        "!pip install snakeviz"
      ]
    },
    {
      "cell_type": "code",
      "execution_count": 19,
      "metadata": {},
      "outputs": [
        {
          "name": "stdout",
          "output_type": "stream",
          "text": [
            "Length of x: 1000\n",
            "Total elements: 1000000\n",
            "calculate_z_serial_purepython took 12.603442668914795 seconds\n"
          ]
        }
      ],
      "source": [
        "if __name__ == \"__main__\":\n",
        "    cProfile.run('calc_pure_python(draw_output=False, desired_width=1000, max_iterations=300)', 'profile_stats')"
      ]
    },
    {
      "cell_type": "code",
      "execution_count": 20,
      "metadata": {},
      "outputs": [
        {
          "name": "stderr",
          "output_type": "stream",
          "text": [
            "snakeviz: error: the path c:\\Users\\angel\\Documents\\7mo\\CA3_High-Performance-Python\\Part 1_Benchmarking and Profiling\\'profile_stats' does not exist\n",
            "\n",
            "usage: snakeviz [-h] [-v] [-H ADDR] [-p PORT] [-b BROWSER_PATH] [-s] filename\n",
            "\n",
            "Start SnakeViz to view a Python profile.\n",
            "\n",
            "positional arguments:\n",
            "  filename              Python profile to view\n",
            "\n",
            "options:\n",
            "  -h, --help            show this help message and exit\n",
            "  -v, --version         show program's version number and exit\n",
            "  -H ADDR, --hostname ADDR\n",
            "                        hostname to bind to (default: 127.0.0.1)\n",
            "  -p PORT, --port PORT  port to bind to; if this port is already in use a free\n",
            "                        port will be selected automatically (default: 8080)\n",
            "  -b BROWSER_PATH, --browser BROWSER_PATH\n",
            "                        name of webbrowser to launch as described in the\n",
            "                        documentation of Python's webbrowser module:\n",
            "                        https://docs.python.org/3/library/webbrowser.html\n",
            "  -s, --server          start SnakeViz in server-only mode--no attempt will be\n",
            "                        made to open a browser\n"
          ]
        }
      ],
      "source": [
        "!snakeviz 'profile_stats'"
      ]
    },
    {
      "cell_type": "markdown",
      "metadata": {
        "id": "NLnIaqzogidu"
      },
      "source": [
        "6. Use the line_profiler and kernprof file to profile line-by-line the function\n",
        "calculate_z_serial_purepython. Analyze the output and make a syntesis of the\n",
        "findings."
      ]
    },
    {
      "cell_type": "code",
      "execution_count": 21,
      "metadata": {
        "id": "mT0NWNOKgqcD"
      },
      "outputs": [
        {
          "name": "stdout",
          "output_type": "stream",
          "text": [
            "Requirement already satisfied: line_profiler in c:\\users\\angel\\appdata\\local\\packages\\pythonsoftwarefoundation.python.3.10_qbz5n2kfra8p0\\localcache\\local-packages\\python310\\site-packages (4.1.2)\n"
          ]
        }
      ],
      "source": [
        "!pip install line_profiler"
      ]
    },
    {
      "cell_type": "code",
      "execution_count": 22,
      "metadata": {},
      "outputs": [],
      "source": [
        "%load_ext line_profiler"
      ]
    },
    {
      "cell_type": "code",
      "execution_count": 23,
      "metadata": {},
      "outputs": [
        {
          "name": "stdout",
          "output_type": "stream",
          "text": [
            "Length of x: 1000\n",
            "Total elements: 1000000\n",
            "calculate_z_serial_purepython took 7.136669397354126 seconds\n"
          ]
        }
      ],
      "source": [
        "import time\n",
        "\n",
        "# Attempt to import the profile decorator from line_profiler if installed\n",
        "try:\n",
        "    from line_profiler import profile\n",
        "except ImportError:\n",
        "    def profile(func):\n",
        "        \"\"\" Dummy decorator in case line_profiler is not installed. \"\"\"\n",
        "        return func\n",
        "\n",
        "# area of complex space to investigate\n",
        "x1, x2, y1, y2 = -1.8, 1.8, -1.8, 1.8\n",
        "c_real, c_imag = -0.62772, -.42193\n",
        "\n",
        "@profile\n",
        "def calculate_z_serial_purepython(maxiter, zs, cs):\n",
        "    \"\"\"Calculate output list using Julia update rule\"\"\"\n",
        "    output = [0] * len(zs)\n",
        "    for i in range(len(zs)):\n",
        "        n = 0\n",
        "        z = zs[i]\n",
        "        c = cs[i]\n",
        "        while abs(z) < 2 and n < maxiter:\n",
        "            z = z * z + c\n",
        "            n += 1\n",
        "        output[i] = n\n",
        "    return output\n",
        "\n",
        "@profile\n",
        "def calc_pure_python(draw_output, desired_width, max_iterations):\n",
        "    \"\"\"Create a list of complex coordinates (zs) and complex parameters (cs), build Julia set and display\"\"\"\n",
        "    x_step = (x2 - x1) / desired_width\n",
        "    y_step = (y2 - y1) / desired_width\n",
        "    x = [x1 + i * x_step for i in range(desired_width)]\n",
        "    y = [y1 + i * y_step for i in range(desired_width)]\n",
        "    zs = [complex(x[i % desired_width], y[i // desired_width]) for i in range(desired_width ** 2)]\n",
        "    cs = [complex(c_real, c_imag) for i in range(desired_width ** 2)]\n",
        "\n",
        "    print(\"Length of x:\", len(x))\n",
        "    print(\"Total elements:\", len(zs))\n",
        "    start_time = time.time()\n",
        "    output = calculate_z_serial_purepython(max_iterations, zs, cs)\n",
        "    end_time = time.time()\n",
        "    secs = end_time - start_time\n",
        "    print(calculate_z_serial_purepython.__name__ + \" took\", secs, \"seconds\")\n",
        "\n",
        "    assert sum(output) == 33219980  # this sum is expected for a 1000^2 grid with 300 iterations\n",
        "\n",
        "# Calculate the Julia set using a pure Python solution with\n",
        "# reasonable defaults for a laptop\n",
        "calc_pure_python(draw_output=False, desired_width=1000, max_iterations=300)\n"
      ]
    },
    {
      "cell_type": "code",
      "execution_count": 24,
      "metadata": {},
      "outputs": [
        {
          "name": "stdout",
          "output_type": "stream",
          "text": [
            "Length of x: 1000\n",
            "Total elements: 1000000\n",
            "calculate_z_serial_purepython took 88.0983316898346 seconds\n"
          ]
        },
        {
          "name": "stdout",
          "output_type": "stream",
          "text": [
            "Timer unit: 1e-07 s\n",
            "\n",
            "Total time: 56.8071 s\n",
            "File: C:\\Users\\angel\\AppData\\Local\\Temp\\ipykernel_26316\\2939688537.py\n",
            "Function: calculate_z_serial_purepython at line 15\n",
            "\n",
            "Line #      Hits         Time  Per Hit   % Time  Line Contents\n",
            "==============================================================\n",
            "    15                                           @profile\n",
            "    16                                           def calculate_z_serial_purepython(maxiter, zs, cs):\n",
            "    17                                               \"\"\"Calculate output list using Julia update rule\"\"\"\n",
            "    18         1      56649.0  56649.0      0.0      output = [0] * len(zs)\n",
            "    19   1000001    4512728.0      4.5      0.8      for i in range(len(zs)):\n",
            "    20   1000000    3867867.0      3.9      0.7          n = 0\n",
            "    21   1000000    5355765.0      5.4      0.9          z = zs[i]\n",
            "    22   1000000    4464575.0      4.5      0.8          c = cs[i]\n",
            "    23  34219980  234887002.0      6.9     41.3          while abs(z) < 2 and n < maxiter:\n",
            "    24  33219980  167684048.0      5.0     29.5              z = z * z + c\n",
            "    25  33219980  141943738.0      4.3     25.0              n += 1\n",
            "    26   1000000    5298607.0      5.3      0.9          output[i] = n\n",
            "    27         1          9.0      9.0      0.0      return output"
          ]
        }
      ],
      "source": [
        "%lprun -f calculate_z_serial_purepython calc_pure_python(draw_output=False, desired_width=1000, max_iterations=300)"
      ]
    },
    {
      "cell_type": "markdown",
      "metadata": {
        "id": "8Mltml7Igqsd"
      },
      "source": [
        "7. Use the memory_profiler to diagnose memory usage. Analyze the output and make\n",
        "a syntesis of the findings."
      ]
    },
    {
      "cell_type": "code",
      "execution_count": 25,
      "metadata": {
        "id": "fyLBXfxqgzo4"
      },
      "outputs": [
        {
          "name": "stdout",
          "output_type": "stream",
          "text": [
            "Requirement already satisfied: memory_profiler in c:\\users\\angel\\appdata\\local\\packages\\pythonsoftwarefoundation.python.3.10_qbz5n2kfra8p0\\localcache\\local-packages\\python310\\site-packages (0.61.0)\n",
            "Requirement already satisfied: psutil in c:\\users\\angel\\appdata\\local\\packages\\pythonsoftwarefoundation.python.3.10_qbz5n2kfra8p0\\localcache\\local-packages\\python310\\site-packages (from memory_profiler) (5.9.2)\n",
            "Requirement already satisfied: psutil in c:\\users\\angel\\appdata\\local\\packages\\pythonsoftwarefoundation.python.3.10_qbz5n2kfra8p0\\localcache\\local-packages\\python310\\site-packages (5.9.2)\n"
          ]
        }
      ],
      "source": [
        "!pip install memory_profiler\n",
        "!pip install psutil"
      ]
    },
    {
      "cell_type": "code",
      "execution_count": 26,
      "metadata": {},
      "outputs": [],
      "source": [
        "%load_ext memory_profiler"
      ]
    },
    {
      "cell_type": "code",
      "execution_count": 27,
      "metadata": {},
      "outputs": [
        {
          "name": "stdout",
          "output_type": "stream",
          "text": [
            "Length of x values: 1000\n",
            "Total elements: 1000000\n",
            "calculate_z_serial took 14.447798013687134 seconds\n",
            "peak memory: 167.59 MiB, increment: 83.75 MiB\n"
          ]
        }
      ],
      "source": [
        "%%memit\n",
        "# Import required libraries\n",
        "import time\n",
        "\n",
        "# Define the boundaries of the complex space and specific parameters\n",
        "lower_x, upper_x, lower_y, upper_y = -1.8, 1.8, -1.8, 1.8\n",
        "real_part, imaginary_part = -0.62772, -0.42193\n",
        "\n",
        "def calculate_z_serial(max_iterations, zs, cs):\n",
        "    \"\"\"Calculates and returns a list with the iteration count for each point.\"\"\"\n",
        "    result = [0] * len(zs)\n",
        "    for i in range(len(zs)):\n",
        "        iterations = 0\n",
        "        z = zs[i]\n",
        "        c = cs[i]\n",
        "        while abs(z) < 2 and iterations < max_iterations:\n",
        "            z = z**2 + c\n",
        "            iterations += 1\n",
        "        result[i] = iterations\n",
        "    return result\n",
        "\n",
        "def generate_julia(draw_output, desired_width, max_iterations):\n",
        "    \"\"\"Generates and computes the Julia set for a set of complex coordinates.\"\"\"\n",
        "    x_step = (upper_x - lower_x) / desired_width\n",
        "    y_step = (upper_y - lower_y) / desired_width\n",
        "    x_values = [lower_x + i * x_step for i in range(desired_width)]\n",
        "    y_values = [lower_y + i * y_step for i in range(desired_width)]\n",
        "    zs = [complex(x_values[i % desired_width], y_values[i // desired_width]) for i in range(desired_width ** 2)]\n",
        "    cs = [complex(real_part, imaginary_part) for i in range(desired_width ** 2)]\n",
        "\n",
        "    print(\"Length of x values:\", len(x_values))\n",
        "    print(\"Total elements:\", len(zs))\n",
        "    start_time = time.time()\n",
        "    result = calculate_z_serial(max_iterations, zs, cs)\n",
        "    end_time = time.time()\n",
        "    execution_time = end_time - start_time\n",
        "    print(calculate_z_serial.__name__ + \" took\", execution_time, \"seconds\")\n",
        "\n",
        "    assert sum(result) == 33219980  # Expected sum for a 1000^2 grid with 300 iterations\n",
        "\n",
        "# Execute the function with given parameters\n",
        "generate_julia(draw_output=False, desired_width=1000, max_iterations=300)\n",
        "\n"
      ]
    }
  ],
  "metadata": {
    "colab": {
      "provenance": []
    },
    "kernelspec": {
      "display_name": "Python 3",
      "name": "python3"
    },
    "language_info": {
      "codemirror_mode": {
        "name": "ipython",
        "version": 3
      },
      "file_extension": ".py",
      "mimetype": "text/x-python",
      "name": "python",
      "nbconvert_exporter": "python",
      "pygments_lexer": "ipython3",
      "version": "3.10.11"
    }
  },
  "nbformat": 4,
  "nbformat_minor": 0
}
