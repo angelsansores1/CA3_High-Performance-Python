{
  "cells": [
    {
      "cell_type": "markdown",
      "metadata": {
        "id": "xRNjXZ0Z7uCT"
      },
      "source": [
        "# **CA4. Multiprocessing**\n",
        "**Sansores Cruz Angel David\\\n",
        "Data Engineering\\\n",
        "Universidad Politécnica de Yucatán\\\n",
        "Ucú, Yucatán, México\\\n",
        "2109139@upy.edu.mx** \\\n",
        "\n",
        "# Part 1. Benchmarking and Profiling\n",
        "\n",
        "**The Julia set is an interesting CPU-bound problem for us to begin with. It is a fractal sequence that generates a complex output image, named after Gaston Julia.**\n",
        "\n",
        "1. Read the sections “Introducing the Julia Set” and “Calculating the Full Julia Set” on Chapter 2. Profiling to Find Bottlenecks from the book: **M. Gorelick & I. Ozsvald(2020). High Performance Python. Practical Performant Programming for Humans. Second Edition. United States of America: O’Reilly Media, Inc.** Implement the chapter functions (Example 2-1, 2-2, 2-3 and 2-4) on Python in order to calculate the Julia Set. Make the representation for the false gray and pure gray scale."
      ]
    },
    {
      "cell_type": "code",
      "execution_count": 27,
      "metadata": {
        "id": "5gm2p4kno0k5"
      },
      "outputs": [],
      "source": [
        "import time"
      ]
    },
    {
      "cell_type": "code",
      "execution_count": 28,
      "metadata": {
        "id": "dP4K0cPY70zY"
      },
      "outputs": [],
      "source": [
        "#Example 2-1. Defining global constants for the coordinate space\n",
        "\"\"\"Julia set generator without optional PIL-based image drawing\"\"\"\n",
        "# area of complex space to investigate\n",
        "x1, x2, y1, y2 = -1.8, 1.8, -1.8, 1.8\n",
        "c_real, c_imag = -0.62772, -.42193"
      ]
    },
    {
      "cell_type": "code",
      "execution_count": 29,
      "metadata": {},
      "outputs": [],
      "source": [
        "#Example 2-3. Our CPU-bound calculation function\n",
        "def calculate_z_serial_purepython(maxiter, zs, cs):\n",
        "  \"\"\"Calculate output list using Julia update rule\"\"\"\n",
        "  output = [0] * len(zs)\n",
        "  for i in range(len(zs)):\n",
        "    n = 0\n",
        "    z = zs[i]\n",
        "    c = cs[i]\n",
        "    while abs(z) < 2 and n < maxiter:\n",
        "      z = z * z + c\n",
        "      n += 1\n",
        "    output[i] = n\n",
        "  return output"
      ]
    },
    {
      "cell_type": "code",
      "execution_count": 30,
      "metadata": {},
      "outputs": [],
      "source": [
        "# Example 2-2. stablishing the coordinate lists as inputs to our calculation function\n",
        "def calc_pure_python(desired_width, max_iterations):\n",
        "  \"\"\"Create a list of complex coordinates (zs) and complex parameters (cs),\n",
        " build Julia set\"\"\"\n",
        "  x_step = (x2 - x1) / desired_width\n",
        "  y_step = (y1 - y2) / desired_width\n",
        "  x = []\n",
        "  y = []\n",
        "  ycoord = y2\n",
        "  while ycoord > y1:\n",
        "    y.append(ycoord)\n",
        "    ycoord += y_step\n",
        "  xcoord = x1\n",
        "  while xcoord < x2:\n",
        "    x.append(xcoord)\n",
        "    xcoord += x_step\n",
        "# build a list of coordinates and the initial condition for each cell.\n",
        "# Note that our initial condition is a constant and could easily be removed,\n",
        "# we use it to simulate a real-world scenario with several inputs to our\n",
        "# function\n",
        "  zs = []\n",
        "  cs = []\n",
        "  for ycoord in y:\n",
        "    for xcoord in x:\n",
        "      zs.append(complex(xcoord, ycoord))\n",
        "      cs.append(complex(c_real, c_imag))\n",
        "  print(\"Length of x:\", len(x))\n",
        "  print(\"Total elements:\", len(zs))\n",
        "  start_time = time.time()\n",
        "  output = calculate_z_serial_purepython(max_iterations, zs, cs)\n",
        "  end_time = time.time()\n",
        "  secs = end_time - start_time\n",
        "  print(calculate_z_serial_purepython.__name__ + \" took\", secs, \"seconds\")\n",
        "# This sum is expected for a 1000^2 grid with 300 iterations\n",
        "# It ensures that our code evolves exactly as we'd intended\n",
        "  assert sum(output) == 33219980"
      ]
    },
    {
      "cell_type": "markdown",
      "metadata": {
        "id": "UHlFuSfb7aEv"
      },
      "source": [
        "**Once we run the next code, we see some output about the complexity of the problem:**\\\n",
        "**running the above produces:**\\\n",
        "Length of x: 1000\\\n",
        "Total elements: 1000000\\\n",
        "calculate_z_serial_purepython took 8.087012767791748 seconds"
      ]
    },
    {
      "cell_type": "code",
      "execution_count": 31,
      "metadata": {
        "colab": {
          "base_uri": "https://localhost:8080/"
        },
        "id": "G_YonmJiwt1Z",
        "outputId": "9b641e90-ba07-4ac0-af0e-0d9d562f260f"
      },
      "outputs": [
        {
          "name": "stdout",
          "output_type": "stream",
          "text": [
            "Length of x: 1000\n",
            "Total elements: 1000000\n",
            "calculate_z_serial_purepython took 7.3374810218811035 seconds\n"
          ]
        }
      ],
      "source": [
        "if __name__ == \"__main__\":\n",
        "# Calculate the Julia set using a pure Python solution with\n",
        "# reasonable defaults for a laptop\n",
        "  calc_pure_python(desired_width=1000, max_iterations=300)\n"
      ]
    },
    {
      "cell_type": "markdown",
      "metadata": {
        "id": "_gMc_PFR-PWi"
      },
      "source": [
        "# Representation for **False Gray** and **Pure Grayscale**"
      ]
    },
    {
      "cell_type": "code",
      "execution_count": 32,
      "metadata": {},
      "outputs": [],
      "source": [
        "import time\n",
        "from PIL import Image\n",
        "import array\n"
      ]
    },
    {
      "cell_type": "code",
      "execution_count": 33,
      "metadata": {},
      "outputs": [],
      "source": [
        "def show_false_greyscale(output_raw, width, height, max_iterations):\n",
        "    \"\"\"Convert list to array, show using PIL\"\"\"\n",
        "    # convert our output to PIL-compatible input\n",
        "    assert width * height == len(output_raw)  \n",
        "    max_value = float(max(output_raw))\n",
        "    output_raw_limited = [int(float(o) / max_value * 255) for o in output_raw]\n",
        "    output_rgb = ((o + (256 * o) + (256 ** 2) * o) * 16 for o in output_raw_limited)\n",
        "    output_rgb = array.array('I', output_rgb) \n",
        "    # display with PIL/pillow\n",
        "    im = Image.new(\"RGB\", (width, height))\n",
        "    \n",
        "    im.frombytes(output_rgb.tobytes(), \"raw\", \"RGBX\", 0, -1)\n",
        "    im.show()"
      ]
    },
    {
      "cell_type": "code",
      "execution_count": 34,
      "metadata": {},
      "outputs": [],
      "source": [
        "def show_greyscale(output_raw, width, height, max_iterations):\n",
        "    \"\"\"Convert list to array, show using PIL\"\"\"\n",
        "    # convert our output to PIL-compatible input\n",
        "    max_iterations = float(max(output_raw))\n",
        "    print(max_iterations)\n",
        "    scale_factor = float(max_iterations)\n",
        "    scaled = [int(o / scale_factor * 255) for o in output_raw]\n",
        "    output = array.array('B', scaled)  \n",
        "    # display with PIL\n",
        "    im = Image.new(\"L\", (width, width))\n",
        "    \n",
        "    im.frombytes(output.tobytes(), \"raw\", \"L\", 0, -1)\n",
        "    im.show()"
      ]
    },
    {
      "cell_type": "code",
      "execution_count": 35,
      "metadata": {},
      "outputs": [],
      "source": [
        "def calc_pure_python(draw_output, desired_width, max_iterations):\n",
        "    \"\"\"Create a list of complex co-ordinates (zs) and complex parameters (cs), build Julia set and display\"\"\"\n",
        "    x_step = (x2 - x1) / desired_width\n",
        "    y_step = (y1 - y2) / desired_width\n",
        "    x = []\n",
        "    y = []\n",
        "    ycoord = y2\n",
        "    while ycoord > y1:\n",
        "        y.append(ycoord)\n",
        "        ycoord += y_step\n",
        "    xcoord = x1\n",
        "    while xcoord < x2:\n",
        "        x.append(xcoord)\n",
        "        xcoord += x_step\n",
        "    # set width and height to the generated pixel counts, rather than the\n",
        "    # pre-rounding desired width and height\n",
        "    width = len(x)\n",
        "    height = len(y)\n",
        "    # build a list of co-ordinates and the initial condition for each cell.\n",
        "    # Note that our initial condition is a constant and could easily be removed,\n",
        "    # we use it to simulate a real-world scenario with several inputs to our function\n",
        "    zs = []\n",
        "    cs = []\n",
        "    for ycoord in y:\n",
        "        for xcoord in x:\n",
        "            zs.append(complex(xcoord, ycoord))\n",
        "            cs.append(complex(c_real, c_imag))\n",
        "\n",
        "    print(\"Length of x:\", len(x))\n",
        "    print(\"Total elements:\", len(zs))\n",
        "    start_time = time.time()\n",
        "    output = calculate_z_serial_purepython(max_iterations, zs, cs)\n",
        "    end_time = time.time()\n",
        "    secs = end_time - start_time\n",
        "    print(calculate_z_serial_purepython.__name__ + \" took\", secs, \"seconds\")\n",
        "\n",
        "    assert sum(output) == 33219980  # this sum is expected for 1000^2 grid with 300 iterations\n",
        "\n",
        "    if draw_output:\n",
        "        show_greyscale(output, width, height, max_iterations)"
      ]
    },
    {
      "cell_type": "code",
      "execution_count": 36,
      "metadata": {
        "id": "uaulCTCK-_bp"
      },
      "outputs": [
        {
          "name": "stdout",
          "output_type": "stream",
          "text": [
            "Length of x: 1000\n",
            "Total elements: 1000000\n",
            "calculate_z_serial_purepython took 7.797954797744751 seconds\n",
            "300.0\n"
          ]
        }
      ],
      "source": [
        "if __name__ == \"__main__\":\n",
        "    # Calculate the Julia set using a pure Python solution with\n",
        "    # reasonable defaults for a laptop\n",
        "    # set draw_output to True to use PIL to draw an image\n",
        "    calc_pure_python(draw_output=True, desired_width=1000, max_iterations=300)"
      ]
    },
    {
      "cell_type": "markdown",
      "metadata": {
        "id": "mo8gvEeXf6dr"
      },
      "source": [
        "2. Define a new function, timefn, which takes a function as an argument: the inner function, measure_time, takes *args (a variable number of positional arguments) and **kwargs (a variable number of key/value arguments) and passes them through to fn for execution. Decorate calculate_z_serial_purepython with @timefn to profile it. Implement Example 2-5 and adapt your current source code."
      ]
    },
    {
      "cell_type": "markdown",
      "metadata": {},
      "source": [
        "The timeit module offers a way to measure the execution time of small code snippets. In this context, it's used to benchmark the calc_pure_python function, providing an overview of its performance. This method is effective for identifying functions that might be bottlenecks in the code."
      ]
    },
    {
      "cell_type": "code",
      "execution_count": 37,
      "metadata": {
        "id": "ZoXU3tu8gC7P"
      },
      "outputs": [],
      "source": [
        "# Example 2-5. Defining a decorator to automate timing measurements\n",
        "from functools import wraps\n",
        "\n",
        "def timefn(fn):\n",
        "    @wraps(fn)\n",
        "    def measure_time(*args, **kwargs):\n",
        "        t1 = time.time()\n",
        "        result = fn(*args, **kwargs)\n",
        "        t2 = time.time()\n",
        "        print(f\"@timefn: {fn.__name__} took {t2 - t1} seconds\")\n",
        "        return result\n",
        "    return measure_time"
      ]
    },
    {
      "cell_type": "code",
      "execution_count": 38,
      "metadata": {
        "id": "YNTKM73IUlwJ"
      },
      "outputs": [],
      "source": [
        "@timefn\n",
        "def calculate_z_serial_purepython(maxiter, zs, cs):\n",
        "    '''Calculate output list using Julia update rule'''\n",
        "    output = [0] * len(zs)\n",
        "    for i in range(len(zs)):\n",
        "        n = 0\n",
        "        z = zs[i]\n",
        "        c = cs[i]\n",
        "        while abs(z) < 2 and n < maxiter:\n",
        "            z = z * z + c\n",
        "            n += 1\n",
        "        output[i] = n\n",
        "    return output"
      ]
    },
    {
      "cell_type": "code",
      "execution_count": null,
      "metadata": {},
      "outputs": [],
      "source": [
        "calc_pure_python(draw_output=False, desired_width=1000, max_iterations=300)"
      ]
    },
    {
      "cell_type": "markdown",
      "metadata": {
        "id": "ZBr_QrFogNNH"
      },
      "source": [
        "3. Use the timeit modeule to get a coarse measurement of the execution speed of the CPU-bound function. Runs 10 loops with 5 repetitions. Show how to do the\n",
        "measurement on the command line and on a Jupyter Notebook."
      ]
    },
    {
      "cell_type": "code",
      "execution_count": 39,
      "metadata": {
        "colab": {
          "base_uri": "https://localhost:8080/",
          "height": 331
        },
        "id": "Ap7Cp68RgSHV",
        "outputId": "31a32308-6ff2-48fc-8291-03b3cecda46b"
      },
      "outputs": [
        {
          "ename": "TypeError",
          "evalue": "calc_pure_python() missing 1 required positional argument: 'draw_output'",
          "output_type": "error",
          "traceback": [
            "\u001b[1;31m---------------------------------------------------------------------------\u001b[0m",
            "\u001b[1;31mTypeError\u001b[0m                                 Traceback (most recent call last)",
            "Input \u001b[1;32mIn [39]\u001b[0m, in \u001b[0;36m<cell line: 1>\u001b[1;34m()\u001b[0m\n\u001b[1;32m----> 1\u001b[0m \u001b[43mget_ipython\u001b[49m\u001b[43m(\u001b[49m\u001b[43m)\u001b[49m\u001b[38;5;241;43m.\u001b[39;49m\u001b[43mrun_line_magic\u001b[49m\u001b[43m(\u001b[49m\u001b[38;5;124;43m'\u001b[39;49m\u001b[38;5;124;43mtimeit\u001b[39;49m\u001b[38;5;124;43m'\u001b[39;49m\u001b[43m,\u001b[49m\u001b[43m \u001b[49m\u001b[38;5;124;43m'\u001b[39;49m\u001b[38;5;124;43m-r 5 -n 10 calc_pure_python(desired_width=1000, max_iterations=300)\u001b[39;49m\u001b[38;5;124;43m'\u001b[39;49m\u001b[43m)\u001b[49m\n",
            "File \u001b[1;32m~\\AppData\\Local\\Packages\\PythonSoftwareFoundation.Python.3.10_qbz5n2kfra8p0\\LocalCache\\local-packages\\Python310\\site-packages\\IPython\\core\\interactiveshell.py:2305\u001b[0m, in \u001b[0;36mInteractiveShell.run_line_magic\u001b[1;34m(self, magic_name, line, _stack_depth)\u001b[0m\n\u001b[0;32m   2303\u001b[0m     kwargs[\u001b[38;5;124m'\u001b[39m\u001b[38;5;124mlocal_ns\u001b[39m\u001b[38;5;124m'\u001b[39m] \u001b[38;5;241m=\u001b[39m \u001b[38;5;28mself\u001b[39m\u001b[38;5;241m.\u001b[39mget_local_scope(stack_depth)\n\u001b[0;32m   2304\u001b[0m \u001b[38;5;28;01mwith\u001b[39;00m \u001b[38;5;28mself\u001b[39m\u001b[38;5;241m.\u001b[39mbuiltin_trap:\n\u001b[1;32m-> 2305\u001b[0m     result \u001b[38;5;241m=\u001b[39m fn(\u001b[38;5;241m*\u001b[39margs, \u001b[38;5;241m*\u001b[39m\u001b[38;5;241m*\u001b[39mkwargs)\n\u001b[0;32m   2306\u001b[0m \u001b[38;5;28;01mreturn\u001b[39;00m result\n",
            "File \u001b[1;32m~\\AppData\\Local\\Packages\\PythonSoftwareFoundation.Python.3.10_qbz5n2kfra8p0\\LocalCache\\local-packages\\Python310\\site-packages\\IPython\\core\\magics\\execution.py:1166\u001b[0m, in \u001b[0;36mExecutionMagics.timeit\u001b[1;34m(self, line, cell, local_ns)\u001b[0m\n\u001b[0;32m   1163\u001b[0m         \u001b[38;5;28;01mif\u001b[39;00m time_number \u001b[38;5;241m>\u001b[39m\u001b[38;5;241m=\u001b[39m \u001b[38;5;241m0.2\u001b[39m:\n\u001b[0;32m   1164\u001b[0m             \u001b[38;5;28;01mbreak\u001b[39;00m\n\u001b[1;32m-> 1166\u001b[0m all_runs \u001b[38;5;241m=\u001b[39m \u001b[43mtimer\u001b[49m\u001b[38;5;241;43m.\u001b[39;49m\u001b[43mrepeat\u001b[49m\u001b[43m(\u001b[49m\u001b[43mrepeat\u001b[49m\u001b[43m,\u001b[49m\u001b[43m \u001b[49m\u001b[43mnumber\u001b[49m\u001b[43m)\u001b[49m\n\u001b[0;32m   1167\u001b[0m best \u001b[38;5;241m=\u001b[39m \u001b[38;5;28mmin\u001b[39m(all_runs) \u001b[38;5;241m/\u001b[39m number\n\u001b[0;32m   1168\u001b[0m worst \u001b[38;5;241m=\u001b[39m \u001b[38;5;28mmax\u001b[39m(all_runs) \u001b[38;5;241m/\u001b[39m number\n",
            "File \u001b[1;32mC:\\Program Files\\WindowsApps\\PythonSoftwareFoundation.Python.3.10_3.10.3056.0_x64__qbz5n2kfra8p0\\lib\\timeit.py:206\u001b[0m, in \u001b[0;36mTimer.repeat\u001b[1;34m(self, repeat, number)\u001b[0m\n\u001b[0;32m    204\u001b[0m r \u001b[38;5;241m=\u001b[39m []\n\u001b[0;32m    205\u001b[0m \u001b[38;5;28;01mfor\u001b[39;00m i \u001b[38;5;129;01min\u001b[39;00m \u001b[38;5;28mrange\u001b[39m(repeat):\n\u001b[1;32m--> 206\u001b[0m     t \u001b[38;5;241m=\u001b[39m \u001b[38;5;28;43mself\u001b[39;49m\u001b[38;5;241;43m.\u001b[39;49m\u001b[43mtimeit\u001b[49m\u001b[43m(\u001b[49m\u001b[43mnumber\u001b[49m\u001b[43m)\u001b[49m\n\u001b[0;32m    207\u001b[0m     r\u001b[38;5;241m.\u001b[39mappend(t)\n\u001b[0;32m    208\u001b[0m \u001b[38;5;28;01mreturn\u001b[39;00m r\n",
            "File \u001b[1;32m~\\AppData\\Local\\Packages\\PythonSoftwareFoundation.Python.3.10_qbz5n2kfra8p0\\LocalCache\\local-packages\\Python310\\site-packages\\IPython\\core\\magics\\execution.py:156\u001b[0m, in \u001b[0;36mTimer.timeit\u001b[1;34m(self, number)\u001b[0m\n\u001b[0;32m    154\u001b[0m gc\u001b[38;5;241m.\u001b[39mdisable()\n\u001b[0;32m    155\u001b[0m \u001b[38;5;28;01mtry\u001b[39;00m:\n\u001b[1;32m--> 156\u001b[0m     timing \u001b[38;5;241m=\u001b[39m \u001b[38;5;28;43mself\u001b[39;49m\u001b[38;5;241;43m.\u001b[39;49m\u001b[43minner\u001b[49m\u001b[43m(\u001b[49m\u001b[43mit\u001b[49m\u001b[43m,\u001b[49m\u001b[43m \u001b[49m\u001b[38;5;28;43mself\u001b[39;49m\u001b[38;5;241;43m.\u001b[39;49m\u001b[43mtimer\u001b[49m\u001b[43m)\u001b[49m\n\u001b[0;32m    157\u001b[0m \u001b[38;5;28;01mfinally\u001b[39;00m:\n\u001b[0;32m    158\u001b[0m     \u001b[38;5;28;01mif\u001b[39;00m gcold:\n",
            "File \u001b[1;32m<magic-timeit>:1\u001b[0m, in \u001b[0;36minner\u001b[1;34m(_it, _timer)\u001b[0m\n",
            "\u001b[1;31mTypeError\u001b[0m: calc_pure_python() missing 1 required positional argument: 'draw_output'"
          ]
        }
      ],
      "source": [
        "%timeit -r 5 -n 10 calc_pure_python(desired_width=1000, max_iterations=300)"
      ]
    },
    {
      "cell_type": "markdown",
      "metadata": {
        "id": "7KwMO8rRgQQ2"
      },
      "source": [
        "4. Use the cProfile module to profile the source code (.py). Sort the results by the time spent inside each function. This will give a view into the slowest parts. Analyze the output and make a syntesis of the findings. Show how to use the cProfile module on the command line and on a Jupyter Notebook."
      ]
    },
    {
      "cell_type": "markdown",
      "metadata": {},
      "source": [
        "cProfile is a performance analysis tool that provides function-by-function execution times, helping to pinpoint inefficiencies in the code. The use of cProfile followed by analysis with pstats allowed for detailed profiling, revealing the most time-consuming functions in the code."
      ]
    },
    {
      "cell_type": "code",
      "execution_count": null,
      "metadata": {
        "id": "WDEUciBygY6Q"
      },
      "outputs": [
        {
          "name": "stdout",
          "output_type": "stream",
          "text": [
            "Length of x: 1000\n",
            "Total elements: 1000000\n",
            "calculate_z_serial_purepython took 12.715683460235596 seconds\n"
          ]
        }
      ],
      "source": [
        "import cProfile\n",
        "# cProfile: For detailed profiling of Python programs.\n",
        "import time\n",
        "\n",
        "# Attempt to import the profile decorator from line_profiler if installed\n",
        "try:\n",
        "    from line_profiler import profile\n",
        "except ImportError:\n",
        "    def profile(func):\n",
        "        \"\"\" Dummy decorator in case line_profiler is not installed. \"\"\"\n",
        "        return func\n",
        "\n",
        "# area of complex space to investigate\n",
        "x1, x2, y1, y2 = -1.8, 1.8, -1.8, 1.8\n",
        "c_real, c_imag = -0.62772, -.42193\n",
        "\n",
        "@profile\n",
        "def calculate_z_serial_purepython(maxiter, zs, cs):\n",
        "    \"\"\"Calculate output list using Julia update rule\"\"\"\n",
        "    output = [0] * len(zs)\n",
        "    for i in range(len(zs)):\n",
        "        n = 0\n",
        "        z = zs[i]\n",
        "        c = cs[i]\n",
        "        while abs(z) < 2 and n < maxiter:\n",
        "            z = z * z + c\n",
        "            n += 1\n",
        "        output[i] = n\n",
        "    return output\n",
        "\n",
        "@profile\n",
        "def calc_pure_python(draw_output, desired_width, max_iterations):\n",
        "    \"\"\"Create a list of complex coordinates (zs) and complex parameters (cs), build Julia set and display\"\"\"\n",
        "    x_step = (x2 - x1) / desired_width\n",
        "    y_step = (y2 - y1) / desired_width\n",
        "    x = [x1 + i * x_step for i in range(desired_width)]\n",
        "    y = [y1 + i * y_step for i in range(desired_width)]\n",
        "    zs = [complex(x[i % desired_width], y[i // desired_width]) for i in range(desired_width ** 2)]\n",
        "    cs = [complex(c_real, c_imag) for i in range(desired_width ** 2)]\n",
        "\n",
        "    print(\"Length of x:\", len(x))\n",
        "    print(\"Total elements:\", len(zs))\n",
        "    start_time = time.time()\n",
        "    output = calculate_z_serial_purepython(max_iterations, zs, cs)\n",
        "    end_time = time.time()\n",
        "    secs = end_time - start_time\n",
        "    print(calculate_z_serial_purepython.__name__ + \" took\", secs, \"seconds\")\n",
        "\n",
        "    assert sum(output) == 33219980  # this sum is expected for a 1000^2 grid with 300 iterations\n",
        "\n",
        "if __name__ == \"__main__\":\n",
        "    cProfile.run('calc_pure_python(draw_output=False, desired_width=1000, max_iterations=300)', 'profile_stats')\n"
      ]
    },
    {
      "cell_type": "code",
      "execution_count": null,
      "metadata": {},
      "outputs": [
        {
          "name": "stdout",
          "output_type": "stream",
          "text": [
            "Fri Apr  5 21:36:13 2024    profile_stats\n",
            "\n",
            "         34220127 function calls in 13.345 seconds\n",
            "\n",
            "   Ordered by: cumulative time\n",
            "   List reduced from 29 to 10 due to restriction <10>\n",
            "\n",
            "   ncalls  tottime  percall  cumtime  percall filename:lineno(function)\n",
            "        1    0.000    0.000   13.345   13.345 {built-in method builtins.exec}\n",
            "        1    0.028    0.028   13.345   13.345 <string>:1(<module>)\n",
            "        1    0.000    0.000   13.317   13.317 C:\\Users\\angel\\AppData\\Local\\Temp\\ipykernel_26316\\2613920211.py:30(calc_pure_python)\n",
            "        1    8.664    8.664   12.716   12.716 C:\\Users\\angel\\AppData\\Local\\Temp\\ipykernel_26316\\2613920211.py:16(calculate_z_serial_purepython)\n",
            " 34219980    4.052    0.000    4.052    0.000 {built-in method builtins.abs}\n",
            "        1    0.364    0.364    0.364    0.364 C:\\Users\\angel\\AppData\\Local\\Temp\\ipykernel_26316\\2613920211.py:37(<listcomp>)\n",
            "        1    0.228    0.228    0.228    0.228 C:\\Users\\angel\\AppData\\Local\\Temp\\ipykernel_26316\\2613920211.py:38(<listcomp>)\n",
            "        1    0.006    0.006    0.006    0.006 {built-in method builtins.sum}\n",
            "        3    0.000    0.000    0.002    0.001 {built-in method builtins.print}\n",
            "       14    0.002    0.000    0.002    0.000 C:\\Users\\angel\\AppData\\Local\\Packages\\PythonSoftwareFoundation.Python.3.10_qbz5n2kfra8p0\\LocalCache\\local-packages\\Python310\\site-packages\\ipykernel\\iostream.py:518(write)\n",
            "\n",
            "\n"
          ]
        },
        {
          "data": {
            "text/plain": [
              "<pstats.Stats at 0x25055e58490>"
            ]
          },
          "execution_count": 17,
          "metadata": {},
          "output_type": "execute_result"
        }
      ],
      "source": [
        "#pstats: To sort and analyze profiling results from cProfile.\n",
        "import pstats\n",
        "p = pstats.Stats('profile_stats')\n",
        "p.sort_stats('cumulative').print_stats(10)  # Adjust this number to display more or fewer lines"
      ]
    },
    {
      "cell_type": "markdown",
      "metadata": {
        "id": "fvu1FL0lgZvf"
      },
      "source": [
        "5. Use snakeviz to get a high-level understanding of the cPrifile statistics file. Analyze the output and make a syntesis of the findings."
      ]
    },
    {
      "cell_type": "markdown",
      "metadata": {},
      "source": [
        "snakeviz provides an interactive graphical interface for viewing cProfile profiling results. This visualization aids in quickly identifying bottlenecks in a visual manner, making it easier to decide where optimization efforts should be focused."
      ]
    },
    {
      "cell_type": "code",
      "execution_count": null,
      "metadata": {
        "id": "WQfAuqF5ghsn"
      },
      "outputs": [
        {
          "name": "stdout",
          "output_type": "stream",
          "text": [
            "Requirement already satisfied: snakeviz in c:\\users\\angel\\appdata\\local\\packages\\pythonsoftwarefoundation.python.3.10_qbz5n2kfra8p0\\localcache\\local-packages\\python310\\site-packages (2.2.0)\n",
            "Requirement already satisfied: tornado>=2.0 in c:\\users\\angel\\appdata\\local\\packages\\pythonsoftwarefoundation.python.3.10_qbz5n2kfra8p0\\localcache\\local-packages\\python310\\site-packages (from snakeviz) (6.2)\n"
          ]
        }
      ],
      "source": [
        "!pip install snakeviz\n",
        "\"snakeviz: A browser-based graphical visualization tool for the output from Python’s cProfile module.s\""
      ]
    },
    {
      "cell_type": "code",
      "execution_count": null,
      "metadata": {},
      "outputs": [
        {
          "name": "stdout",
          "output_type": "stream",
          "text": [
            "Length of x: 1000\n",
            "Total elements: 1000000\n",
            "calculate_z_serial_purepython took 12.603442668914795 seconds\n"
          ]
        }
      ],
      "source": [
        "if __name__ == \"__main__\":\n",
        "    cProfile.run('calc_pure_python(draw_output=False, desired_width=1000, max_iterations=300)', 'profile_stats')"
      ]
    },
    {
      "cell_type": "code",
      "execution_count": null,
      "metadata": {},
      "outputs": [
        {
          "name": "stderr",
          "output_type": "stream",
          "text": [
            "snakeviz: error: the path c:\\Users\\angel\\Documents\\7mo\\CA3_High-Performance-Python\\Part 1_Benchmarking and Profiling\\'profile_stats' does not exist\n",
            "\n",
            "usage: snakeviz [-h] [-v] [-H ADDR] [-p PORT] [-b BROWSER_PATH] [-s] filename\n",
            "\n",
            "Start SnakeViz to view a Python profile.\n",
            "\n",
            "positional arguments:\n",
            "  filename              Python profile to view\n",
            "\n",
            "options:\n",
            "  -h, --help            show this help message and exit\n",
            "  -v, --version         show program's version number and exit\n",
            "  -H ADDR, --hostname ADDR\n",
            "                        hostname to bind to (default: 127.0.0.1)\n",
            "  -p PORT, --port PORT  port to bind to; if this port is already in use a free\n",
            "                        port will be selected automatically (default: 8080)\n",
            "  -b BROWSER_PATH, --browser BROWSER_PATH\n",
            "                        name of webbrowser to launch as described in the\n",
            "                        documentation of Python's webbrowser module:\n",
            "                        https://docs.python.org/3/library/webbrowser.html\n",
            "  -s, --server          start SnakeViz in server-only mode--no attempt will be\n",
            "                        made to open a browser\n"
          ]
        }
      ],
      "source": [
        "!snakeviz 'profile_stats'"
      ]
    },
    {
      "cell_type": "markdown",
      "metadata": {
        "id": "NLnIaqzogidu"
      },
      "source": [
        "6. Use the line_profiler and kernprof file to profile line-by-line the function\n",
        "calculate_z_serial_purepython. Analyze the output and make a syntesis of the\n",
        "findings."
      ]
    },
    {
      "cell_type": "markdown",
      "metadata": {},
      "source": [
        "**line_profiler** offers detailed insights into the execution time of each line of code within the specified function, helping to pinpoint inefficient lines. This level of granularity is crucial for optimizing code that is already fairly efficient but needs further improvements.\\\n",
        "**line_profiler:** For line-by-line profiling of Python code.\\\n",
        "**kernprof:** A command-line tool for running line_profiler."
      ]
    },
    {
      "cell_type": "code",
      "execution_count": null,
      "metadata": {
        "id": "mT0NWNOKgqcD"
      },
      "outputs": [
        {
          "name": "stdout",
          "output_type": "stream",
          "text": [
            "Requirement already satisfied: line_profiler in c:\\users\\angel\\appdata\\local\\packages\\pythonsoftwarefoundation.python.3.10_qbz5n2kfra8p0\\localcache\\local-packages\\python310\\site-packages (4.1.2)\n"
          ]
        }
      ],
      "source": [
        "!pip install line_profiler"
      ]
    },
    {
      "cell_type": "code",
      "execution_count": null,
      "metadata": {},
      "outputs": [],
      "source": [
        "%load_ext line_profiler"
      ]
    },
    {
      "cell_type": "code",
      "execution_count": null,
      "metadata": {},
      "outputs": [
        {
          "name": "stdout",
          "output_type": "stream",
          "text": [
            "Length of x: 1000\n",
            "Total elements: 1000000\n",
            "calculate_z_serial_purepython took 7.136669397354126 seconds\n"
          ]
        }
      ],
      "source": [
        "import time\n",
        "\n",
        "# Attempt to import the profile decorator from line_profiler if installed\n",
        "try:\n",
        "    from line_profiler import profile\n",
        "except ImportError:\n",
        "    def profile(func):\n",
        "        \"\"\" Dummy decorator in case line_profiler is not installed. \"\"\"\n",
        "        return func\n",
        "\n",
        "# area of complex space to investigate\n",
        "x1, x2, y1, y2 = -1.8, 1.8, -1.8, 1.8\n",
        "c_real, c_imag = -0.62772, -.42193\n",
        "\n",
        "@profile\n",
        "def calculate_z_serial_purepython(maxiter, zs, cs):\n",
        "    \"\"\"Calculate output list using Julia update rule\"\"\"\n",
        "    output = [0] * len(zs)\n",
        "    for i in range(len(zs)):\n",
        "        n = 0\n",
        "        z = zs[i]\n",
        "        c = cs[i]\n",
        "        while abs(z) < 2 and n < maxiter:\n",
        "            z = z * z + c\n",
        "            n += 1\n",
        "        output[i] = n\n",
        "    return output\n",
        "\n",
        "@profile\n",
        "def calc_pure_python(draw_output, desired_width, max_iterations):\n",
        "    \"\"\"Create a list of complex coordinates (zs) and complex parameters (cs), build Julia set and display\"\"\"\n",
        "    x_step = (x2 - x1) / desired_width\n",
        "    y_step = (y2 - y1) / desired_width\n",
        "    x = [x1 + i * x_step for i in range(desired_width)]\n",
        "    y = [y1 + i * y_step for i in range(desired_width)]\n",
        "    zs = [complex(x[i % desired_width], y[i // desired_width]) for i in range(desired_width ** 2)]\n",
        "    cs = [complex(c_real, c_imag) for i in range(desired_width ** 2)]\n",
        "\n",
        "    print(\"Length of x:\", len(x))\n",
        "    print(\"Total elements:\", len(zs))\n",
        "    start_time = time.time()\n",
        "    output = calculate_z_serial_purepython(max_iterations, zs, cs)\n",
        "    end_time = time.time()\n",
        "    secs = end_time - start_time\n",
        "    print(calculate_z_serial_purepython.__name__ + \" took\", secs, \"seconds\")\n",
        "\n",
        "    assert sum(output) == 33219980  # this sum is expected for a 1000^2 grid with 300 iterations\n",
        "\n",
        "# Calculate the Julia set using a pure Python solution with\n",
        "# reasonable defaults for a laptop\n",
        "calc_pure_python(draw_output=False, desired_width=1000, max_iterations=300)\n"
      ]
    },
    {
      "cell_type": "code",
      "execution_count": null,
      "metadata": {},
      "outputs": [
        {
          "name": "stdout",
          "output_type": "stream",
          "text": [
            "Length of x: 1000\n",
            "Total elements: 1000000\n",
            "calculate_z_serial_purepython took 88.0983316898346 seconds\n"
          ]
        },
        {
          "name": "stdout",
          "output_type": "stream",
          "text": [
            "Timer unit: 1e-07 s\n",
            "\n",
            "Total time: 56.8071 s\n",
            "File: C:\\Users\\angel\\AppData\\Local\\Temp\\ipykernel_26316\\2939688537.py\n",
            "Function: calculate_z_serial_purepython at line 15\n",
            "\n",
            "Line #      Hits         Time  Per Hit   % Time  Line Contents\n",
            "==============================================================\n",
            "    15                                           @profile\n",
            "    16                                           def calculate_z_serial_purepython(maxiter, zs, cs):\n",
            "    17                                               \"\"\"Calculate output list using Julia update rule\"\"\"\n",
            "    18         1      56649.0  56649.0      0.0      output = [0] * len(zs)\n",
            "    19   1000001    4512728.0      4.5      0.8      for i in range(len(zs)):\n",
            "    20   1000000    3867867.0      3.9      0.7          n = 0\n",
            "    21   1000000    5355765.0      5.4      0.9          z = zs[i]\n",
            "    22   1000000    4464575.0      4.5      0.8          c = cs[i]\n",
            "    23  34219980  234887002.0      6.9     41.3          while abs(z) < 2 and n < maxiter:\n",
            "    24  33219980  167684048.0      5.0     29.5              z = z * z + c\n",
            "    25  33219980  141943738.0      4.3     25.0              n += 1\n",
            "    26   1000000    5298607.0      5.3      0.9          output[i] = n\n",
            "    27         1          9.0      9.0      0.0      return output"
          ]
        }
      ],
      "source": [
        "%lprun -f calculate_z_serial_purepython calc_pure_python(draw_output=False, desired_width=1000, max_iterations=300)"
      ]
    },
    {
      "cell_type": "markdown",
      "metadata": {
        "id": "8Mltml7Igqsd"
      },
      "source": [
        "7. Use the memory_profiler to diagnose memory usage. Analyze the output and make\n",
        "a syntesis of the findings."
      ]
    },
    {
      "cell_type": "markdown",
      "metadata": {},
      "source": [
        "**memory_profiler** monitors the memory usage of a Python program, line by line. It's especially useful in detecting memory leaks or understanding the memory footprint of different parts of the code. This analysis helps ensure that the code not only runs fast but also efficiently uses resources.\\\n",
        "**memory_profiler:** For profiling memory usage of Python programs.\\\n",
        "**psutil:** Provides an interface to cross-platform system monitoring information, used alongside memory_profiler for more detailed memory diagnostics."
      ]
    },
    {
      "cell_type": "code",
      "execution_count": null,
      "metadata": {
        "id": "fyLBXfxqgzo4"
      },
      "outputs": [
        {
          "name": "stdout",
          "output_type": "stream",
          "text": [
            "Requirement already satisfied: memory_profiler in c:\\users\\angel\\appdata\\local\\packages\\pythonsoftwarefoundation.python.3.10_qbz5n2kfra8p0\\localcache\\local-packages\\python310\\site-packages (0.61.0)\n",
            "Requirement already satisfied: psutil in c:\\users\\angel\\appdata\\local\\packages\\pythonsoftwarefoundation.python.3.10_qbz5n2kfra8p0\\localcache\\local-packages\\python310\\site-packages (from memory_profiler) (5.9.2)\n",
            "Requirement already satisfied: psutil in c:\\users\\angel\\appdata\\local\\packages\\pythonsoftwarefoundation.python.3.10_qbz5n2kfra8p0\\localcache\\local-packages\\python310\\site-packages (5.9.2)\n"
          ]
        }
      ],
      "source": [
        "!pip install memory_profiler\n",
        "!pip install psutil"
      ]
    },
    {
      "cell_type": "code",
      "execution_count": null,
      "metadata": {},
      "outputs": [],
      "source": [
        "%load_ext memory_profiler"
      ]
    },
    {
      "cell_type": "code",
      "execution_count": null,
      "metadata": {},
      "outputs": [
        {
          "name": "stdout",
          "output_type": "stream",
          "text": [
            "Length of x values: 1000\n",
            "Total elements: 1000000\n",
            "calculate_z_serial took 14.447798013687134 seconds\n",
            "peak memory: 167.59 MiB, increment: 83.75 MiB\n"
          ]
        }
      ],
      "source": [
        "%%memit\n",
        "# Import required libraries\n",
        "import time\n",
        "\n",
        "# Define the boundaries of the complex space and specific parameters\n",
        "lower_x, upper_x, lower_y, upper_y = -1.8, 1.8, -1.8, 1.8\n",
        "real_part, imaginary_part = -0.62772, -0.42193\n",
        "\n",
        "def calculate_z_serial(max_iterations, zs, cs):\n",
        "    \"\"\"Calculates and returns a list with the iteration count for each point.\"\"\"\n",
        "    result = [0] * len(zs)\n",
        "    for i in range(len(zs)):\n",
        "        iterations = 0\n",
        "        z = zs[i]\n",
        "        c = cs[i]\n",
        "        while abs(z) < 2 and iterations < max_iterations:\n",
        "            z = z**2 + c\n",
        "            iterations += 1\n",
        "        result[i] = iterations\n",
        "    return result\n",
        "\n",
        "def generate_julia(draw_output, desired_width, max_iterations):\n",
        "    \"\"\"Generates and computes the Julia set for a set of complex coordinates.\"\"\"\n",
        "    x_step = (upper_x - lower_x) / desired_width\n",
        "    y_step = (upper_y - lower_y) / desired_width\n",
        "    x_values = [lower_x + i * x_step for i in range(desired_width)]\n",
        "    y_values = [lower_y + i * y_step for i in range(desired_width)]\n",
        "    zs = [complex(x_values[i % desired_width], y_values[i // desired_width]) for i in range(desired_width ** 2)]\n",
        "    cs = [complex(real_part, imaginary_part) for i in range(desired_width ** 2)]\n",
        "\n",
        "    print(\"Length of x values:\", len(x_values))\n",
        "    print(\"Total elements:\", len(zs))\n",
        "    start_time = time.time()\n",
        "    result = calculate_z_serial(max_iterations, zs, cs)\n",
        "    end_time = time.time()\n",
        "    execution_time = end_time - start_time\n",
        "    print(calculate_z_serial.__name__ + \" took\", execution_time, \"seconds\")\n",
        "\n",
        "    assert sum(result) == 33219980  # Expected sum for a 1000^2 grid with 300 iterations\n",
        "\n",
        "# Execute the function with given parameters\n",
        "generate_julia(draw_output=False, desired_width=1000, max_iterations=300)\n",
        "\n"
      ]
    }
  ],
  "metadata": {
    "colab": {
      "provenance": []
    },
    "kernelspec": {
      "display_name": "Python 3",
      "name": "python3"
    },
    "language_info": {
      "codemirror_mode": {
        "name": "ipython",
        "version": 3
      },
      "file_extension": ".py",
      "mimetype": "text/x-python",
      "name": "python",
      "nbconvert_exporter": "python",
      "pygments_lexer": "ipython3",
      "version": "3.10.11"
    }
  },
  "nbformat": 4,
  "nbformat_minor": 0
}
