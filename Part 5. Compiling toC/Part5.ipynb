{
 "cells": [
  {
   "cell_type": "markdown",
   "metadata": {},
   "source": [
    "# **CA4. Multiprocessing**\n",
    "**Sansores Cruz Angel David\\\n",
    "Data Engineering\\\n",
    "Universidad Politécnica de Yucatán\\\n",
    "Ucú, Yucatán, México\\\n",
    "2109139@upy.edu.mx** \n",
    "\n",
    "# Part 5. Compiling to C"
   ]
  },
  {
   "cell_type": "markdown",
   "metadata": {},
   "source": [
    "16. Read about the Conway’s Game of Life. Implement allsolutions provided on the Cython Material(slides)to obtain the updateof the lattice:\n",
    "a.Python\n",
    "b.Cython1\n",
    "c.Cython2\n",
    "d.Cython3\n",
    "e.Cython4\n",
    "Explain the improvement on each solution. Reproduce the chart on pp. 33 with the runtime for each solution."
   ]
  },
  {
   "cell_type": "code",
   "execution_count": 9,
   "metadata": {},
   "outputs": [],
   "source": [
    "import time\n",
    "import numpy as np\n",
    "import matplotlib.pyplot as plt\n",
    "#Locales\n",
    "import Cython1\n",
    "import Cython2\n",
    "import Cython3\n",
    "import Cython4\n",
    "import python"
   ]
  },
  {
   "cell_type": "code",
   "execution_count": 4,
   "metadata": {},
   "outputs": [],
   "source": [
    "def time_function(func, *args, **kwargs):\n",
    "    start_time = time.time()\n",
    "    func(*args, **kwargs)\n",
    "    return time.time() - start_time\n",
    "\n",
    "lattice = np.random.randint(2, size=(1000, 1000))  \n",
    "\n",
    "# Time each function\n",
    "python_time = time_function(python.update, lattice)\n",
    "cython1_time = time_function(Cython1.update, lattice)\n",
    "cython2_time = time_function(Cython2.update, lattice)\n",
    "cython3_time = time_function(Cython3.update, lattice)\n",
    "cython4_time = time_function(Cython4.update, lattice)\n",
    "\n",
    "# Collect the times\n",
    "times = [python_time, cython1_time, cython2_time, cython3_time, cython4_time]\n",
    "labels = ['Python', 'Cython1', 'Cython2', 'Cython3', 'Cython4']\n"
   ]
  },
  {
   "cell_type": "code",
   "execution_count": 5,
   "metadata": {},
   "outputs": [
    {
     "data": {
      "text/plain": [
       "[('Python', 2.5274112224578857),\n",
       " ('Cython1', 2.457799196243286),\n",
       " ('Cython2', 2.752094268798828),\n",
       " ('Cython3', 2.7118167877197266),\n",
       " ('Cython4', 3.0383527278900146)]"
      ]
     },
     "execution_count": 5,
     "metadata": {},
     "output_type": "execute_result"
    }
   ],
   "source": [
    "times = [python_time, cython1_time, cython2_time, cython3_time, cython4_time]\n",
    "labels = ['Python', 'Cython1', 'Cython2', 'Cython3', 'Cython4']\n",
    "# Pair up implementations with their times\n",
    "pairs = list(zip(labels, times))\n",
    "pairs"
   ]
  },
  {
   "cell_type": "code",
   "execution_count": 8,
   "metadata": {},
   "outputs": [
    {
     "data": {
      "image/png": "[encoded data removed]",
      "text/plain": [
       "<Figure size 640x480 with 1 Axes>"
      ]
     },
     "metadata": {},
     "output_type": "display_data"
    }
   ],
   "source": [
    "# Plotting the results\n",
    "plt.bar(labels, times)\n",
    "plt.xlabel('Implementation')\n",
    "plt.ylabel('Seconds')\n",
    "plt.title('Results')\n",
    "\n",
    "plt.show()"
   ]
  }
 ],
 "metadata": {
  "kernelspec": {
   "display_name": "Python 3",
   "language": "python",
   "name": "python3"
  },
  "language_info": {
   "codemirror_mode": {
    "name": "ipython",
    "version": 3
   },
   "file_extension": ".py",
   "mimetype": "text/x-python",
   "name": "python",
   "nbconvert_exporter": "python",
   "pygments_lexer": "ipython3",
   "version": "3.10.11"
  }
 },
 "nbformat": 4,
 "nbformat_minor": 2
}
