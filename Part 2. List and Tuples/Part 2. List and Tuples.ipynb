{
 "cells": [
  {
   "cell_type": "markdown",
   "metadata": {},
   "source": [
    "# **CA4. Multiprocessing**\n",
    "**Sansores Cruz Angel David\\\n",
    "Data Engineering\\\n",
    "Universidad Politécnica de Yucatán\\\n",
    "Ucú, Yucatán, México\\\n",
    "2109139@upy.edu.mx** \n",
    "\n",
    "# Part 2. List and Tuples"
   ]
  },
  {
   "cell_type": "markdown",
   "metadata": {},
   "source": [
    "\n",
    "8. In some cases, it is necessary to efficiently perform insertion or removal of elements\n",
    "both at the beginning and at the end of the collection. Measure the time for the\n",
    "following operations with N = 10 000, 20 000 y 30 000 elements:\\\n",
    "    a. Delete last element of a list via pop()\\\n",
    "    b. Delete first element of a list via pop(0)\\\n",
    "    c. Append 1 at the end of the list.\\\n",
    "    d. Insert 1 at the beginning of the list insert(0, 1)\\\n",
    "Make a table with your results. It should looks like table on Chapter 2: Pure Python\n",
    "Optimization (pp. 38) from the book G. Lenaro (2017). Python high Performance.\n",
    "Second Edition. UK: Packt Publishing Ltd."
   ]
  },
  {
   "cell_type": "code",
   "execution_count": null,
   "metadata": {},
   "outputs": [],
   "source": []
  },
  {
   "cell_type": "markdown",
   "metadata": {},
   "source": [
    "9. Python provides a data structure with interesting properties in the collection.deque\n",
    "class. The word deque stands for double-ended queue because this data structure\n",
    "is designed to efficiently put and remove elements at the beginning and at the end\n",
    "of the collection. Evaluate the following methods with N = 10 000, 20 000 and 30\n",
    "000 elements:\\\n",
    "a. deque.pop()\\\n",
    "b. deque.popleft()\\\n",
    "c. deque.append(1)\\\n",
    "d. deque.appendleft(1)\\\n",
    "Make a table with your results. It should looks like table on pp. 39 on the same book\n",
    "as previous task. "
   ]
  },
  {
   "cell_type": "code",
   "execution_count": null,
   "metadata": {},
   "outputs": [],
   "source": []
  },
  {
   "cell_type": "markdown",
   "metadata": {},
   "source": [
    "10. The efficiency gained by the appendleft and popleft comes at a cost: accesing an\n",
    "element in the middle of a deque is a O(N) operation. Evaluate the time for the next\n",
    "operations with with N = 10 000, 20 000 and 30 000 elements:\\\n",
    "a. deque[0]\\\n",
    "b. deque[N-1]\\\n",
    "c. deque[int(N/2)]\\\n",
    "**Make a table with your results. It should looks like table on pp. 39 on the same book\n",
    "as previous task.**"
   ]
  },
  {
   "cell_type": "code",
   "execution_count": null,
   "metadata": {},
   "outputs": [],
   "source": []
  },
  {
   "cell_type": "markdown",
   "metadata": {},
   "source": [
    "11. Explain what is Overallocation in lists. "
   ]
  },
  {
   "cell_type": "code",
   "execution_count": null,
   "metadata": {},
   "outputs": [],
   "source": []
  }
 ],
 "metadata": {
  "kernelspec": {
   "display_name": "Python 3",
   "language": "python",
   "name": "python3"
  },
  "language_info": {
   "codemirror_mode": {
    "name": "ipython",
    "version": 3
   },
   "file_extension": ".py",
   "mimetype": "text/x-python",
   "name": "python",
   "nbconvert_exporter": "python",
   "pygments_lexer": "ipython3",
   "version": "3.10.11"
  }
 },
 "nbformat": 4,
 "nbformat_minor": 2
}
