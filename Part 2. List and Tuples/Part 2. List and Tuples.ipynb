{
 "cells": [
  {
   "cell_type": "markdown",
   "metadata": {},
   "source": [
    "# **CA4. Multiprocessing**\n",
    "**Sansores Cruz Angel David\\\n",
    "Data Engineering\\\n",
    "Universidad Politécnica de Yucatán\\\n",
    "Ucú, Yucatán, México\\\n",
    "2109139@upy.edu.mx** \n",
    "\n",
    "# Part 2. List and Tuples"
   ]
  },
  {
   "cell_type": "markdown",
   "metadata": {},
   "source": [
    "\n",
    "8. In some cases, it is necessary to efficiently perform insertion or removal of elements\n",
    "both at the beginning and at the end of the collection. Measure the time for the\n",
    "following operations with N = 10 000, 20 000 y 30 000 elements:\\\n",
    "    a. Delete last element of a list via pop()\\\n",
    "    b. Delete first element of a list via pop(0)\\\n",
    "    c. Append 1 at the end of the list.\\\n",
    "    d. Insert 1 at the beginning of the list insert(0, 1)\\\n",
    "Make a table with your results. It should looks like table on Chapter 2: Pure Python\n",
    "Optimization (pp. 38) from the book G. Lenaro (2017). Python high Performance.\n",
    "Second Edition. UK: Packt Publishing Ltd."
   ]
  },
  {
   "cell_type": "code",
   "execution_count": 1,
   "metadata": {},
   "outputs": [],
   "source": [
    "import timeit\n",
    "import pandas as pd"
   ]
  },
  {
   "cell_type": "code",
   "execution_count": 7,
   "metadata": {},
   "outputs": [
    {
     "name": "stdout",
     "output_type": "stream",
     "text": [
      "       Delete last element (pop) (µs)  Delete first element (pop(0)) (µs)  \\\n",
      "N                                                                           \n",
      "10000                       81.799924                        40244.500153   \n",
      "20000                       82.399929                       105641.999980   \n",
      "30000                       55.800192                       120906.000026   \n",
      "\n",
      "       Append 1 at the end (µs)  Insert 1 at the beginning (µs)  \n",
      "N                                                                \n",
      "10000                 88.100089                     7047.899999  \n",
      "20000                151.199987                    10629.399912  \n",
      "30000                164.699974                    15986.199956  \n"
     ]
    }
   ],
   "source": [
    "# Number of elements in each test case\n",
    "Ns = [10000, 20000, 30000]\n",
    "\n",
    "# Operations to be measured\n",
    "operations = {\n",
    "    \"Delete last element (pop)\": \"lst.pop()\",\n",
    "    \"Delete first element (pop(0))\": \"lst.pop(0)\",\n",
    "    \"Append 1 at the end\": \"lst.append(1)\",\n",
    "    \"Insert 1 at the beginning\": \"lst.insert(0, 1)\"\n",
    "}\n",
    "\n",
    "# Initialize a dictionary to hold the results for each N\n",
    "results = {N: {} for N in Ns}\n",
    "\n",
    "# Measure time for each operation across different list sizes\n",
    "for N in Ns:\n",
    "    for description, operation in operations.items():\n",
    "        setup_code = f\"lst = list(range({N}))\"\n",
    "        # Measure the time taken to execute the operation 1000 times\n",
    "        time_taken = timeit.timeit(stmt=operation, setup=setup_code, number=1000)\n",
    "        # Store the time in microseconds\n",
    "        results[N][description] = time_taken * 1e6  # convert seconds to microseconds\n",
    "\n",
    "# Convert the results to a DataFrame for easier visualization\n",
    "results_df = pd.DataFrame(results).T  # Transpose to have operations as columns and N as rows\n",
    "results_df.index.name = 'N'\n",
    "results_df.columns = [f\"{col} (µs)\" for col in results_df.columns]  # Add units to column names\n",
    "\n",
    "print(results_df)\n"
   ]
  },
  {
   "cell_type": "markdown",
   "metadata": {},
   "source": [
    "9. Python provides a data structure with interesting properties in the collection.deque\n",
    "class. The word deque stands for double-ended queue because this data structure\n",
    "is designed to efficiently put and remove elements at the beginning and at the end\n",
    "of the collection. Evaluate the following methods with N = 10 000, 20 000 and 30\n",
    "000 elements:\\\n",
    "a. deque.pop()\\\n",
    "b. deque.popleft()\\\n",
    "c. deque.append(1)\\\n",
    "d. deque.appendleft(1)\\\n",
    "Make a table with your results. It should looks like table on pp. 39 on the same book\n",
    "as previous task. "
   ]
  },
  {
   "cell_type": "code",
   "execution_count": 24,
   "metadata": {},
   "outputs": [],
   "source": [
    "import timeit\n",
    "from collections import deque\n",
    "import pandas as pd"
   ]
  },
  {
   "cell_type": "markdown",
   "metadata": {},
   "source": [
    "# N = 10 000"
   ]
  },
  {
   "cell_type": "code",
   "execution_count": 26,
   "metadata": {},
   "outputs": [
    {
     "data": {
      "text/html": [
       "<div>\n",
       "<style scoped>\n",
       "    .dataframe tbody tr th:only-of-type {\n",
       "        vertical-align: middle;\n",
       "    }\n",
       "\n",
       "    .dataframe tbody tr th {\n",
       "        vertical-align: top;\n",
       "    }\n",
       "\n",
       "    .dataframe thead th {\n",
       "        text-align: right;\n",
       "    }\n",
       "</style>\n",
       "<table border=\"1\" class=\"dataframe\">\n",
       "  <thead>\n",
       "    <tr style=\"text-align: right;\">\n",
       "      <th></th>\n",
       "      <th>Operation</th>\n",
       "      <th>Time (microseconds)</th>\n",
       "    </tr>\n",
       "  </thead>\n",
       "  <tbody>\n",
       "    <tr>\n",
       "      <th>0</th>\n",
       "      <td>deque.pop()</td>\n",
       "      <td>32.200012</td>\n",
       "    </tr>\n",
       "    <tr>\n",
       "      <th>1</th>\n",
       "      <td>deque.popleft()</td>\n",
       "      <td>52.999938</td>\n",
       "    </tr>\n",
       "    <tr>\n",
       "      <th>2</th>\n",
       "      <td>deque.append(1)</td>\n",
       "      <td>42.699976</td>\n",
       "    </tr>\n",
       "    <tr>\n",
       "      <th>3</th>\n",
       "      <td>deque.appendleft(1)</td>\n",
       "      <td>48.799906</td>\n",
       "    </tr>\n",
       "  </tbody>\n",
       "</table>\n",
       "</div>"
      ],
      "text/plain": [
       "             Operation  Time (microseconds)\n",
       "0          deque.pop()            32.200012\n",
       "1      deque.popleft()            52.999938\n",
       "2      deque.append(1)            42.699976\n",
       "3  deque.appendleft(1)            48.799906"
      ]
     },
     "execution_count": 26,
     "metadata": {},
     "output_type": "execute_result"
    }
   ],
   "source": [
    "# Number of elements\n",
    "N = 10000\n",
    "\n",
    "# Operations to be measured on a deque\n",
    "operations = {\n",
    "    \"deque.pop()\": \"d.pop()\",\n",
    "    \"deque.popleft()\": \"d.popleft()\",\n",
    "    \"deque.append(1)\": \"d.append(1)\",\n",
    "    \"deque.appendleft(1)\": \"d.appendleft(1)\"\n",
    "}\n",
    "\n",
    "# Measure time for each operation\n",
    "results = {}\n",
    "for description, operation in operations.items():\n",
    "    setup_code = \"from collections import deque\\n\" + f\"d = deque(range({N}))\"\n",
    "    # Measure the time taken to execute the operation 1000 times\n",
    "    time_taken = timeit.timeit(stmt=operation, setup=setup_code, number=1000)\n",
    "    results[description] = time_taken\n",
    "\n",
    "# Convert results to microseconds for display\n",
    "results_microseconds = {operation: time * 1e6 for operation, time in results.items()}  # Convert seconds to microseconds\n",
    "\n",
    "# Convert results to a visual table\n",
    "results_df_microseconds = pd.DataFrame(list(results_microseconds.items()), columns=['Operation', 'Time (microseconds)'])\n",
    "results_df_microseconds\n"
   ]
  },
  {
   "cell_type": "markdown",
   "metadata": {},
   "source": [
    "# N = 20 000"
   ]
  },
  {
   "cell_type": "code",
   "execution_count": 27,
   "metadata": {},
   "outputs": [
    {
     "data": {
      "text/html": [
       "<div>\n",
       "<style scoped>\n",
       "    .dataframe tbody tr th:only-of-type {\n",
       "        vertical-align: middle;\n",
       "    }\n",
       "\n",
       "    .dataframe tbody tr th {\n",
       "        vertical-align: top;\n",
       "    }\n",
       "\n",
       "    .dataframe thead th {\n",
       "        text-align: right;\n",
       "    }\n",
       "</style>\n",
       "<table border=\"1\" class=\"dataframe\">\n",
       "  <thead>\n",
       "    <tr style=\"text-align: right;\">\n",
       "      <th></th>\n",
       "      <th>Operation</th>\n",
       "      <th>Time (microseconds)</th>\n",
       "    </tr>\n",
       "  </thead>\n",
       "  <tbody>\n",
       "    <tr>\n",
       "      <th>0</th>\n",
       "      <td>deque.pop()</td>\n",
       "      <td>58.599981</td>\n",
       "    </tr>\n",
       "    <tr>\n",
       "      <th>1</th>\n",
       "      <td>deque.popleft()</td>\n",
       "      <td>29.899878</td>\n",
       "    </tr>\n",
       "    <tr>\n",
       "      <th>2</th>\n",
       "      <td>deque.append(1)</td>\n",
       "      <td>57.399971</td>\n",
       "    </tr>\n",
       "    <tr>\n",
       "      <th>3</th>\n",
       "      <td>deque.appendleft(1)</td>\n",
       "      <td>51.900046</td>\n",
       "    </tr>\n",
       "  </tbody>\n",
       "</table>\n",
       "</div>"
      ],
      "text/plain": [
       "             Operation  Time (microseconds)\n",
       "0          deque.pop()            58.599981\n",
       "1      deque.popleft()            29.899878\n",
       "2      deque.append(1)            57.399971\n",
       "3  deque.appendleft(1)            51.900046"
      ]
     },
     "execution_count": 27,
     "metadata": {},
     "output_type": "execute_result"
    }
   ],
   "source": [
    "# Number of elements\n",
    "N = 20000\n",
    "\n",
    "# Operations to be measured on a deque\n",
    "operations = {\n",
    "    \"deque.pop()\": \"d.pop()\",\n",
    "    \"deque.popleft()\": \"d.popleft()\",\n",
    "    \"deque.append(1)\": \"d.append(1)\",\n",
    "    \"deque.appendleft(1)\": \"d.appendleft(1)\"\n",
    "}\n",
    "\n",
    "# Measure time for each operation\n",
    "results = {}\n",
    "for description, operation in operations.items():\n",
    "    setup_code = \"from collections import deque\\n\" + f\"d = deque(range({N}))\"\n",
    "    # Measure the time taken to execute the operation 1000 times\n",
    "    time_taken = timeit.timeit(stmt=operation, setup=setup_code, number=1000)\n",
    "    results[description] = time_taken\n",
    "\n",
    "# Convert results to microseconds for display\n",
    "results_microseconds = {operation: time * 1e6 for operation, time in results.items()}  # Convert seconds to microseconds\n",
    "\n",
    "# Convert results to a visual table\n",
    "results_df_microseconds = pd.DataFrame(list(results_microseconds.items()), columns=['Operation', 'Time (microseconds)'])\n",
    "results_df_microseconds\n"
   ]
  },
  {
   "cell_type": "markdown",
   "metadata": {},
   "source": [
    "# N = 30 000"
   ]
  },
  {
   "cell_type": "code",
   "execution_count": 28,
   "metadata": {},
   "outputs": [
    {
     "data": {
      "text/html": [
       "<div>\n",
       "<style scoped>\n",
       "    .dataframe tbody tr th:only-of-type {\n",
       "        vertical-align: middle;\n",
       "    }\n",
       "\n",
       "    .dataframe tbody tr th {\n",
       "        vertical-align: top;\n",
       "    }\n",
       "\n",
       "    .dataframe thead th {\n",
       "        text-align: right;\n",
       "    }\n",
       "</style>\n",
       "<table border=\"1\" class=\"dataframe\">\n",
       "  <thead>\n",
       "    <tr style=\"text-align: right;\">\n",
       "      <th></th>\n",
       "      <th>Operation</th>\n",
       "      <th>Time (microseconds)</th>\n",
       "    </tr>\n",
       "  </thead>\n",
       "  <tbody>\n",
       "    <tr>\n",
       "      <th>0</th>\n",
       "      <td>deque.pop()</td>\n",
       "      <td>65.700151</td>\n",
       "    </tr>\n",
       "    <tr>\n",
       "      <th>1</th>\n",
       "      <td>deque.popleft()</td>\n",
       "      <td>54.799952</td>\n",
       "    </tr>\n",
       "    <tr>\n",
       "      <th>2</th>\n",
       "      <td>deque.append(1)</td>\n",
       "      <td>49.999915</td>\n",
       "    </tr>\n",
       "    <tr>\n",
       "      <th>3</th>\n",
       "      <td>deque.appendleft(1)</td>\n",
       "      <td>49.100025</td>\n",
       "    </tr>\n",
       "  </tbody>\n",
       "</table>\n",
       "</div>"
      ],
      "text/plain": [
       "             Operation  Time (microseconds)\n",
       "0          deque.pop()            65.700151\n",
       "1      deque.popleft()            54.799952\n",
       "2      deque.append(1)            49.999915\n",
       "3  deque.appendleft(1)            49.100025"
      ]
     },
     "execution_count": 28,
     "metadata": {},
     "output_type": "execute_result"
    }
   ],
   "source": [
    "# Number of elements\n",
    "N = 30000\n",
    "\n",
    "# Operations to be measured on a deque\n",
    "operations = {\n",
    "    \"deque.pop()\": \"d.pop()\",\n",
    "    \"deque.popleft()\": \"d.popleft()\",\n",
    "    \"deque.append(1)\": \"d.append(1)\",\n",
    "    \"deque.appendleft(1)\": \"d.appendleft(1)\"\n",
    "}\n",
    "\n",
    "# Measure time for each operation\n",
    "results = {}\n",
    "for description, operation in operations.items():\n",
    "    setup_code = \"from collections import deque\\n\" + f\"d = deque(range({N}))\"\n",
    "    # Measure the time taken to execute the operation 1000 times\n",
    "    time_taken = timeit.timeit(stmt=operation, setup=setup_code, number=1000)\n",
    "    results[description] = time_taken\n",
    "\n",
    "# Convert results to microseconds for display\n",
    "results_microseconds = {operation: time * 1e6 for operation, time in results.items()}  # Convert seconds to microseconds\n",
    "\n",
    "# Convert results to a visual table\n",
    "results_df_microseconds = pd.DataFrame(list(results_microseconds.items()), columns=['Operation', 'Time (microseconds)'])\n",
    "results_df_microseconds\n"
   ]
  },
  {
   "cell_type": "markdown",
   "metadata": {},
   "source": [
    "10. The efficiency gained by the appendleft and popleft comes at a cost: accesing an\n",
    "element in the middle of a deque is a O(N) operation. Evaluate the time for the next\n",
    "operations with with N = 10 000, 20 000 and 30 000 elements:\\\n",
    "a. deque[0]\\\n",
    "b. deque[N-1]\\\n",
    "c. deque[int(N/2)]\\\n",
    "**Make a table with your results. It should looks like table on pp. 39 on the same book\n",
    "as previous task.**"
   ]
  },
  {
   "cell_type": "code",
   "execution_count": null,
   "metadata": {},
   "outputs": [],
   "source": [
    "import timeit\n",
    "from collections import deque\n",
    "import pandas as pd"
   ]
  },
  {
   "cell_type": "markdown",
   "metadata": {},
   "source": [
    "# N = 10 000"
   ]
  },
  {
   "cell_type": "code",
   "execution_count": 29,
   "metadata": {},
   "outputs": [
    {
     "data": {
      "text/html": [
       "<div>\n",
       "<style scoped>\n",
       "    .dataframe tbody tr th:only-of-type {\n",
       "        vertical-align: middle;\n",
       "    }\n",
       "\n",
       "    .dataframe tbody tr th {\n",
       "        vertical-align: top;\n",
       "    }\n",
       "\n",
       "    .dataframe thead th {\n",
       "        text-align: right;\n",
       "    }\n",
       "</style>\n",
       "<table border=\"1\" class=\"dataframe\">\n",
       "  <thead>\n",
       "    <tr style=\"text-align: right;\">\n",
       "      <th></th>\n",
       "      <th>Operation</th>\n",
       "      <th>Time (microseconds)</th>\n",
       "    </tr>\n",
       "  </thead>\n",
       "  <tbody>\n",
       "    <tr>\n",
       "      <th>0</th>\n",
       "      <td>Access first element (deque[0])</td>\n",
       "      <td>180.556220</td>\n",
       "    </tr>\n",
       "    <tr>\n",
       "      <th>1</th>\n",
       "      <td>Access last element (deque[N-1])</td>\n",
       "      <td>195.347961</td>\n",
       "    </tr>\n",
       "    <tr>\n",
       "      <th>2</th>\n",
       "      <td>Access middle element (deque[int(N/2)])</td>\n",
       "      <td>198.903518</td>\n",
       "    </tr>\n",
       "  </tbody>\n",
       "</table>\n",
       "</div>"
      ],
      "text/plain": [
       "                                 Operation  Time (microseconds)\n",
       "0          Access first element (deque[0])           180.556220\n",
       "1         Access last element (deque[N-1])           195.347961\n",
       "2  Access middle element (deque[int(N/2)])           198.903518"
      ]
     },
     "execution_count": 29,
     "metadata": {},
     "output_type": "execute_result"
    }
   ],
   "source": [
    "# Number of elements\n",
    "N = 10000\n",
    "\n",
    "# Operations to be measured on a deque\n",
    "operations = {\n",
    "    \"Access first element (deque[0])\": \"from collections import deque; d = deque(range(N)); d[0]\",\n",
    "    \"Access last element (deque[N-1])\": \"from collections import deque; d = deque(range(N)); d[-1]\",\n",
    "    \"Access middle element (deque[int(N/2)])\": \"from collections import deque; d = deque(range(N)); d[int(N/2)]\"\n",
    "}\n",
    "\n",
    "# Measure time for each operation\n",
    "results = {}\n",
    "for description, operation in operations.items():\n",
    "    # Measure the time taken to execute the operation 100,000 times for precision\n",
    "    time_taken = timeit.timeit(stmt=operation, number=100000, globals={\"N\": N})\n",
    "    results[description] = time_taken\n",
    "\n",
    "# Convert results to microseconds for display\n",
    "results_microseconds = {operation: time * 1e6 / 100000 for operation, time in results.items()}  # Convert to microseconds per operation\n",
    "\n",
    "# Convert results to a visual table\n",
    "results_df_microseconds = pd.DataFrame(list(results_microseconds.items()), columns=['Operation', 'Time (microseconds)'])\n",
    "\n",
    "results_df_microseconds\n",
    "\n",
    "\n"
   ]
  },
  {
   "cell_type": "markdown",
   "metadata": {},
   "source": [
    "# N = 20 000"
   ]
  },
  {
   "cell_type": "code",
   "execution_count": 30,
   "metadata": {},
   "outputs": [
    {
     "data": {
      "text/html": [
       "<div>\n",
       "<style scoped>\n",
       "    .dataframe tbody tr th:only-of-type {\n",
       "        vertical-align: middle;\n",
       "    }\n",
       "\n",
       "    .dataframe tbody tr th {\n",
       "        vertical-align: top;\n",
       "    }\n",
       "\n",
       "    .dataframe thead th {\n",
       "        text-align: right;\n",
       "    }\n",
       "</style>\n",
       "<table border=\"1\" class=\"dataframe\">\n",
       "  <thead>\n",
       "    <tr style=\"text-align: right;\">\n",
       "      <th></th>\n",
       "      <th>Operation</th>\n",
       "      <th>Time (microseconds)</th>\n",
       "    </tr>\n",
       "  </thead>\n",
       "  <tbody>\n",
       "    <tr>\n",
       "      <th>0</th>\n",
       "      <td>Access first element (deque[0])</td>\n",
       "      <td>453.487506</td>\n",
       "    </tr>\n",
       "    <tr>\n",
       "      <th>1</th>\n",
       "      <td>Access last element (deque[N-1])</td>\n",
       "      <td>569.251841</td>\n",
       "    </tr>\n",
       "    <tr>\n",
       "      <th>2</th>\n",
       "      <td>Access middle element (deque[int(N/2)])</td>\n",
       "      <td>392.400740</td>\n",
       "    </tr>\n",
       "  </tbody>\n",
       "</table>\n",
       "</div>"
      ],
      "text/plain": [
       "                                 Operation  Time (microseconds)\n",
       "0          Access first element (deque[0])           453.487506\n",
       "1         Access last element (deque[N-1])           569.251841\n",
       "2  Access middle element (deque[int(N/2)])           392.400740"
      ]
     },
     "execution_count": 30,
     "metadata": {},
     "output_type": "execute_result"
    }
   ],
   "source": [
    "# Number of elements\n",
    "N = 20000\n",
    "\n",
    "# Operations to be measured on a deque\n",
    "operations = {\n",
    "    \"Access first element (deque[0])\": \"from collections import deque; d = deque(range(N)); d[0]\",\n",
    "    \"Access last element (deque[N-1])\": \"from collections import deque; d = deque(range(N)); d[-1]\",\n",
    "    \"Access middle element (deque[int(N/2)])\": \"from collections import deque; d = deque(range(N)); d[int(N/2)]\"\n",
    "}\n",
    "\n",
    "# Measure time for each operation\n",
    "results = {}\n",
    "for description, operation in operations.items():\n",
    "    # Measure the time taken to execute the operation 100,000 times for precision\n",
    "    time_taken = timeit.timeit(stmt=operation, number=100000, globals={\"N\": N})\n",
    "    results[description] = time_taken\n",
    "\n",
    "# Convert results to microseconds for display\n",
    "results_microseconds = {operation: time * 1e6 / 100000 for operation, time in results.items()}  # Convert to microseconds per operation\n",
    "\n",
    "# Convert results to a visual table\n",
    "results_df_microseconds = pd.DataFrame(list(results_microseconds.items()), columns=['Operation', 'Time (microseconds)'])\n",
    "\n",
    "results_df_microseconds\n"
   ]
  },
  {
   "cell_type": "markdown",
   "metadata": {},
   "source": [
    "# N= 30 000"
   ]
  },
  {
   "cell_type": "code",
   "execution_count": 31,
   "metadata": {},
   "outputs": [
    {
     "data": {
      "text/html": [
       "<div>\n",
       "<style scoped>\n",
       "    .dataframe tbody tr th:only-of-type {\n",
       "        vertical-align: middle;\n",
       "    }\n",
       "\n",
       "    .dataframe tbody tr th {\n",
       "        vertical-align: top;\n",
       "    }\n",
       "\n",
       "    .dataframe thead th {\n",
       "        text-align: right;\n",
       "    }\n",
       "</style>\n",
       "<table border=\"1\" class=\"dataframe\">\n",
       "  <thead>\n",
       "    <tr style=\"text-align: right;\">\n",
       "      <th></th>\n",
       "      <th>Operation</th>\n",
       "      <th>Time (microseconds)</th>\n",
       "    </tr>\n",
       "  </thead>\n",
       "  <tbody>\n",
       "    <tr>\n",
       "      <th>0</th>\n",
       "      <td>Access first element (deque[0])</td>\n",
       "      <td>537.808668</td>\n",
       "    </tr>\n",
       "    <tr>\n",
       "      <th>1</th>\n",
       "      <td>Access last element (deque[N-1])</td>\n",
       "      <td>580.213728</td>\n",
       "    </tr>\n",
       "    <tr>\n",
       "      <th>2</th>\n",
       "      <td>Access middle element (deque[int(N/2)])</td>\n",
       "      <td>634.435781</td>\n",
       "    </tr>\n",
       "  </tbody>\n",
       "</table>\n",
       "</div>"
      ],
      "text/plain": [
       "                                 Operation  Time (microseconds)\n",
       "0          Access first element (deque[0])           537.808668\n",
       "1         Access last element (deque[N-1])           580.213728\n",
       "2  Access middle element (deque[int(N/2)])           634.435781"
      ]
     },
     "execution_count": 31,
     "metadata": {},
     "output_type": "execute_result"
    }
   ],
   "source": [
    "# Number of elements\n",
    "N = 30000\n",
    "\n",
    "# Operations to be measured on a deque\n",
    "operations = {\n",
    "    \"Access first element (deque[0])\": \"from collections import deque; d = deque(range(N)); d[0]\",\n",
    "    \"Access last element (deque[N-1])\": \"from collections import deque; d = deque(range(N)); d[-1]\",\n",
    "    \"Access middle element (deque[int(N/2)])\": \"from collections import deque; d = deque(range(N)); d[int(N/2)]\"\n",
    "}\n",
    "\n",
    "# Measure time for each operation\n",
    "results = {}\n",
    "for description, operation in operations.items():\n",
    "    # Measure the time taken to execute the operation 100,000 times for precision\n",
    "    time_taken = timeit.timeit(stmt=operation, number=100000, globals={\"N\": N})\n",
    "    results[description] = time_taken\n",
    "\n",
    "# Convert results to microseconds for display\n",
    "results_microseconds = {operation: time * 1e6 / 100000 for operation, time in results.items()}  # Convert to microseconds per operation\n",
    "\n",
    "# Convert results to a visual table\n",
    "results_df_microseconds = pd.DataFrame(list(results_microseconds.items()), columns=['Operation', 'Time (microseconds)'])\n",
    "\n",
    "results_df_microseconds\n"
   ]
  },
  {
   "cell_type": "markdown",
   "metadata": {},
   "source": [
    "11. Explain what is Overallocation in lists. "
   ]
  },
  {
   "cell_type": "markdown",
   "metadata": {},
   "source": [
    "Overallocation in Python lists refers to the practice of the Python memory management system to allocate more memory than is immediately required for a list. This is done to optimize the performance of operations that extend the list, such as appending elements. When elements are added to a list, instead of allocating space for just the new element, Python allocates space for a number of additional elements beyond the current need. This reduces the number of memory reallocations required as the list grows, which can significantly improve performance. However, it also means that a list might use more memory than its current contents would strictly require, trading off higher memory usage for faster append operations."
   ]
  }
 ],
 "metadata": {
  "kernelspec": {
   "display_name": "Python 3",
   "language": "python",
   "name": "python3"
  },
  "language_info": {
   "codemirror_mode": {
    "name": "ipython",
    "version": 3
   },
   "file_extension": ".py",
   "mimetype": "text/x-python",
   "name": "python",
   "nbconvert_exporter": "python",
   "pygments_lexer": "ipython3",
   "version": "3.10.11"
  }
 },
 "nbformat": 4,
 "nbformat_minor": 2
}
